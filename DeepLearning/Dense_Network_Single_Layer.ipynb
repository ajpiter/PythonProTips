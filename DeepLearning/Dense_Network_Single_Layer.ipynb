{
  "nbformat": 4,
  "nbformat_minor": 0,
  "metadata": {
    "colab": {
      "name": "Dense Network Single Layer.ipynb",
      "provenance": [],
      "authorship_tag": "ABX9TyOVvzJ/O+DviX4C3xHXayJ+",
      "include_colab_link": true
    },
    "kernelspec": {
      "name": "python3",
      "display_name": "Python 3"
    },
    "language_info": {
      "name": "python"
    }
  },
  "cells": [
    {
      "cell_type": "markdown",
      "metadata": {
        "id": "view-in-github",
        "colab_type": "text"
      },
      "source": [
        "<a href=\"https://colab.research.google.com/github/ajpiter/PythonProTips/blob/master/Dense_Network_Single_Layer.ipynb\" target=\"_parent\"><img src=\"https://colab.research.google.com/assets/colab-badge.svg\" alt=\"Open In Colab\"/></a>"
      ]
    },
    {
      "cell_type": "markdown",
      "metadata": {
        "id": "V9U00oAje7zp"
      },
      "source": [
        "# Dense Neural Network, Single Layer\n",
        "\n",
        "A single layer dense neural network with a single input, a single layer, and a single output. "
      ]
    },
    {
      "cell_type": "code",
      "metadata": {
        "id": "qPQgJPnLe1SK"
      },
      "source": [
        "import tensorflow as tf \n",
        "import numpy as np \n",
        "import matplotlib.pyplot as plt\n",
        "\n",
        "#Only print the warnings in tensorflow \n",
        "import logging\n",
        "logger = tf.get_logger()\n",
        "logger.setLevel(logging.ERROR)"
      ],
      "execution_count": 1,
      "outputs": []
    },
    {
      "cell_type": "code",
      "metadata": {
        "id": "sAG3Et6HfmNk"
      },
      "source": [
        "list_A = np.array([1, 2, 3, 4, 5, 6, 7, 8, 9, 10])\n",
        "list_B = np.array([10, 20, 30, 40, 50, 60, 70, 80, 90, 100])"
      ],
      "execution_count": 2,
      "outputs": []
    },
    {
      "cell_type": "code",
      "metadata": {
        "id": "B7ReeKbCfvU3"
      },
      "source": [
        "# Layers are created indivdually \n",
        "layer_0 = tf.keras.layers.Dense(units=1, input_shape=[1])\n",
        "\n",
        "# Create model with a list of layers\n",
        "model = tf.keras.Sequential([layer_0])"
      ],
      "execution_count": 3,
      "outputs": []
    },
    {
      "cell_type": "code",
      "metadata": {
        "colab": {
          "base_uri": "https://localhost:8080/"
        },
        "id": "Q4lcQfNugQgA",
        "outputId": "4225706e-a5f6-420d-ff2f-efd83443b582"
      },
      "source": [
        "# Compile & Train the Model \n",
        "model.compile(loss='mean_squared_error', \n",
        "              optimizer = tf.keras.optimizers.Adam(0.1))\n",
        "\n",
        "train = model.fit(list_A, list_B, \n",
        "                  epochs = 500, \n",
        "                  verbose = False)\n",
        "\n",
        "print('Finished Training the Model')"
      ],
      "execution_count": 4,
      "outputs": [
        {
          "output_type": "stream",
          "text": [
            "Finished Training the Model\n"
          ],
          "name": "stdout"
        }
      ]
    },
    {
      "cell_type": "code",
      "metadata": {
        "colab": {
          "base_uri": "https://localhost:8080/",
          "height": 296
        },
        "id": "opivH-l6g125",
        "outputId": "a7de0ee2-cc67-4d21-d93d-653ebe2301b8"
      },
      "source": [
        "#Visualize the Results\n",
        "plt.xlabel(\"Number of Epochs\")\n",
        "plt.ylabel(\"Loss Magnitude\")\n",
        "plt.plot(train.history['loss'])"
      ],
      "execution_count": 5,
      "outputs": [
        {
          "output_type": "execute_result",
          "data": {
            "text/plain": [
              "[<matplotlib.lines.Line2D at 0x7fd50a85d950>]"
            ]
          },
          "metadata": {
            "tags": []
          },
          "execution_count": 5
        },
        {
          "output_type": "display_data",
          "data": {
            "image/png": "[encoded data removed]",
            "text/plain": [
              "<Figure size 432x288 with 1 Axes>"
            ]
          },
          "metadata": {
            "tags": [],
            "needs_background": "light"
          }
        }
      ]
    },
    {
      "cell_type": "code",
      "metadata": {
        "colab": {
          "base_uri": "https://localhost:8080/"
        },
        "id": "6PRIk4ohhWAg",
        "outputId": "12bdaddf-fa25-4caa-fd14-2f10bae73cc3"
      },
      "source": [
        "# Numeric values for weights \n",
        "print('The weight of the hidden layer is: {}'.format(layer_0.get_weights()))"
      ],
      "execution_count": 6,
      "outputs": [
        {
          "output_type": "stream",
          "text": [
            "The weight of the hidden layer is: [array([[8.947739]], dtype=float32), array([7.111182], dtype=float32)]\n"
          ],
          "name": "stdout"
        }
      ]
    },
    {
      "cell_type": "code",
      "metadata": {
        "colab": {
          "base_uri": "https://localhost:8080/"
        },
        "id": "VTM4HuH1hMgi",
        "outputId": "90b21a14-02e8-4471-a415-410be9278b0f"
      },
      "source": [
        "# Predict New Values \n",
        "print(model.predict([11, 12, 13]))"
      ],
      "execution_count": 7,
      "outputs": [
        {
          "output_type": "stream",
          "text": [
            "[[105.53631 ]\n",
            " [114.48405 ]\n",
            " [123.431786]]\n"
          ],
          "name": "stdout"
        }
      ]
    },
    {
      "cell_type": "markdown",
      "metadata": {
        "id": "xa7sWmSekU4a"
      },
      "source": [
        "We see in the predicted values above that the results are off. \n",
        "\n",
        "- For an input of 11, we got 105 and expected 110 \n",
        "- For an input of 12, we got 114 and expected 120 \n",
        "- For an input of 13, we got 123 and expected 130\n",
        "\n",
        "To improve the model we can change the step value, the number of ephocs, or the number of hidden layers. "
      ]
    },
    {
      "cell_type": "code",
      "metadata": {
        "colab": {
          "base_uri": "https://localhost:8080/"
        },
        "id": "etTPcfYplCpX",
        "outputId": "50824d93-aa40-4ba9-a5a6-6d20566802c6"
      },
      "source": [
        "# Compile & Train the Model \n",
        "model.compile(loss='mean_squared_error', \n",
        "              optimizer = tf.keras.optimizers.Adam(0.01))\n",
        "\n",
        "train = model.fit(list_A, list_B, \n",
        "                  epochs = 500, \n",
        "                  verbose = False)\n",
        "\n",
        "print('Finished Training the Model')"
      ],
      "execution_count": 8,
      "outputs": [
        {
          "output_type": "stream",
          "text": [
            "Finished Training the Model\n"
          ],
          "name": "stdout"
        }
      ]
    },
    {
      "cell_type": "code",
      "metadata": {
        "colab": {
          "base_uri": "https://localhost:8080/",
          "height": 296
        },
        "id": "YVhFx69LlHqy",
        "outputId": "5865f02b-02a2-4e0c-a008-e87009b2df41"
      },
      "source": [
        "#Visualize the Results\n",
        "plt.xlabel(\"Number of Epochs\")\n",
        "plt.ylabel(\"Loss Magnitude\")\n",
        "plt.plot(train.history['loss'])"
      ],
      "execution_count": 9,
      "outputs": [
        {
          "output_type": "execute_result",
          "data": {
            "text/plain": [
              "[<matplotlib.lines.Line2D at 0x7fd509a48850>]"
            ]
          },
          "metadata": {
            "tags": []
          },
          "execution_count": 9
        },
        {
          "output_type": "display_data",
          "data": {
            "image/png": "[encoded data removed]",
            "text/plain": [
              "<Figure size 432x288 with 1 Axes>"
            ]
          },
          "metadata": {
            "tags": [],
            "needs_background": "light"
          }
        }
      ]
    },
    {
      "cell_type": "code",
      "metadata": {
        "colab": {
          "base_uri": "https://localhost:8080/"
        },
        "id": "1NEMgq9zlMLw",
        "outputId": "3510b0e8-a788-48a3-d1e3-9c79295ed801"
      },
      "source": [
        "# Numeric values for weights \n",
        "print('The weight of the hidden layer is: {}'.format(layer_0.get_weights()))"
      ],
      "execution_count": 10,
      "outputs": [
        {
          "output_type": "stream",
          "text": [
            "The weight of the hidden layer is: [array([[9.5734625]], dtype=float32), array([2.9841743], dtype=float32)]\n"
          ],
          "name": "stdout"
        }
      ]
    },
    {
      "cell_type": "code",
      "metadata": {
        "colab": {
          "base_uri": "https://localhost:8080/"
        },
        "id": "Qr2wn3fmlPvf",
        "outputId": "0b0b98f2-f3b7-435d-ba6a-55e12a767b59"
      },
      "source": [
        "# Predict New Values \n",
        "print(model.predict([11, 12, 13]))"
      ],
      "execution_count": 11,
      "outputs": [
        {
          "output_type": "stream",
          "text": [
            "[[108.29227 ]\n",
            " [117.86572 ]\n",
            " [127.439186]]\n"
          ],
          "name": "stdout"
        }
      ]
    },
    {
      "cell_type": "markdown",
      "metadata": {
        "id": "jXXEJx6vlTe8"
      },
      "source": [
        "With the additional 500 epochs and a smaller step of 0.01 we got closer to our expected values. Even a simple nueral network with a single input and output might benifit from multiple hidden layers. "
      ]
    }
  ]
}
