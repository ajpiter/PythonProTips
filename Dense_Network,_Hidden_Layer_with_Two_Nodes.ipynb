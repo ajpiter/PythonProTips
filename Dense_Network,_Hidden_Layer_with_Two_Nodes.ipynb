{
  "nbformat": 4,
  "nbformat_minor": 0,
  "metadata": {
    "colab": {
      "name": "Dense Network, Hidden Layer with Two Nodes.ipynb",
      "provenance": [],
      "authorship_tag": "ABX9TyM0WFt1fe6K/dKyG1afGCkc",
      "include_colab_link": true
    },
    "kernelspec": {
      "name": "python3",
      "display_name": "Python 3"
    },
    "language_info": {
      "name": "python"
    }
  },
  "cells": [
    {
      "cell_type": "markdown",
      "metadata": {
        "id": "view-in-github",
        "colab_type": "text"
      },
      "source": [
        "<a href=\"https://colab.research.google.com/github/ajpiter/PythonProTips/blob/master/Dense_Network%2C_Hidden_Layer_with_Two_Nodes.ipynb\" target=\"_parent\"><img src=\"https://colab.research.google.com/assets/colab-badge.svg\" alt=\"Open In Colab\"/></a>"
      ]
    },
    {
      "cell_type": "markdown",
      "metadata": {
        "id": "EY6BgT3-qLBL"
      },
      "source": [
        "# Dense Network, Hidden Layer with Two Nodes \n",
        "\n",
        "A single layer dense neural network with a single input, a single layer, and a single output. The purpose of this example is to show how the weights of a hidden layer could be calcualted mathmatically. "
      ]
    },
    {
      "cell_type": "markdown",
      "metadata": {
        "id": "AR2imItssMi9"
      },
      "source": [
        "![image.png](data:image/png;base64,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)"
      ]
    },
    {
      "cell_type": "markdown",
      "metadata": {
        "id": "mqeE9MCGsXxj"
      },
      "source": [
        "A simple dense neural network is also know as Forward Propagation. The \n",
        "\n",
        "- **Inputs:** Value of the nodes on the far left, which are typically given as a list or array in a neural network model. \n",
        "- **Weights:** the number on the line bewteen inputs and nodes in the hidden layer. Then also the number on the line bewteen the hidden layer and the output. \n",
        "- **Hidden Layer:** Value of the nodes on the Hidden Layer. These are typically calculated by the neural network model based on predictions from a list of  input and output values. \n",
        "- **Output:** The final value the model predicts. Typically a list or array of output values, that corresponds to a list or array of input values is given to train a neural network model. \n",
        "\n",
        "Each line bewteen the inputs and the nodes has a weight that shows how strongly that input affects the node\n",
        "\n",
        "## How to Solve: Mathmatical Formula\n",
        "\n",
        "- HiddenLayerNode0 = (InputNode0 * WeightfromInputtoHidden1) + (InputNode1 * WeightfromInputtoHidden2)\n",
        "- HiddenLayerNode1 = (InputNode0 * WeightfromInputtoHidden3) + (InputNode1 * WeightfromInputtoHidden4)\n",
        "- Output = (HiddenLayer1 * WeightfromHiddentoOutput1) + (HiddenLayer2 * WeightfromHiddentoOutput2)\n",
        "\n",
        "When calculating the values of hidden layers and outputs you always want to move from left to right. First calculing inputs, then hidden layers, and finally outputs. \n",
        "\n",
        "The calculations above are for forward propagation of a single data point. The final output number is that models predicition for that single data point. \n"
      ]
    },
    {
      "cell_type": "code",
      "metadata": {
        "colab": {
          "base_uri": "https://localhost:8080/"
        },
        "id": "UlWGi8Puyo2K",
        "outputId": "50f7f6fa-379d-4bad-a637-ee4c380a1542"
      },
      "source": [
        "import numpy as np \n",
        "\n",
        "input_A = np.array([2,3]) \n",
        "input_B = np.array([1,2])\n",
        "print(\"The values for the input layer nodes are:\")\n",
        "print(input_A, input_B)\n",
        "  \n",
        "weights = {'wAC': np.array([1, 1]), 'wAE': np.array([-2, 1]), 'wBC': np.array([-1, 1]), \n",
        "           'wBE': np.array([-1, 2]), 'wCF': np.array([-2, 2]), 'wEF': np.array([2, -1])}\n",
        "\n",
        "hidden_C = (input_A * weights['wAC']).sum(), (input_B * weights['wBC']).sum()\n",
        "hidden_E = (input_A * weights['wBE']).sum(), (input_B * weights['wAE']).sum()\n",
        "hidden_layer_values = np.array([hidden_C, hidden_E])\n",
        "print(\"The value of the hidden layer nodes are:\")\n",
        "print(hidden_layer_values) \n",
        "\n",
        "output = (hidden_layer_values * weights['wCF']).sum(), (hidden_layer_values * weights['wEF']).sum()\n",
        "print(\"Based on the given inputs the predicted output value is:\")\n",
        "print(output) "
      ],
      "execution_count": 13,
      "outputs": [
        {
          "output_type": "stream",
          "text": [
            "The values for the input layer nodes are:\n",
            "[2 3] [1 2]\n",
            "The value of the hidden layer nodes are:\n",
            "[[5 1]\n",
            " [4 0]]\n",
            "Based on the given inputs the predicted output value is:\n",
            "(-16, 17)\n"
          ],
          "name": "stdout"
        }
      ]
    },
    {
      "cell_type": "markdown",
      "metadata": {
        "id": "NmhuVgMC2FlA"
      },
      "source": [
        "## Interperting the Results \n",
        "\n",
        "Notice that the inputs were an array containing 2 values. Therefore the weights, hidden layer nodes, and output was also arrays containing 2 values. \n",
        "\n",
        "- When 2 is inputed into A, and 1 is inputed into B the output is -16. \n",
        "- When 3 is inputed into A, and 2 is inputed into B the output is 17. \n"
      ]
    }
  ]
}