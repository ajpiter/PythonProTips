{
 "cells": [
  {
   "cell_type": "markdown",
   "id": "studied-phase",
   "metadata": {},
   "source": [
    "# Dictionaries \n",
    "\n",
    "Dictionaries use Keys to retrive Values. You should use a dictionary when you need fast and convenient access to an element of a collection based on a search key rather than an index.\n",
    "\n",
    "**Notation:** \n",
    "- Dictionaries use {\"X\":1, \"Y\":2, \"Z\":3} \n",
    "- Lists use ['X', 'Y', 'Z'] or [1, 2, 3] or [1.89, 'y', TRUE]\n",
    "- Arrays use [1, 2, 3]\n",
    "- Tuples use (1, 2, 3)\n",
    "\n",
    "**Rules:**\n",
    "- Dictionary Keys have to be immutable objects: integers, floating-point numbers, strings, Booleans, and tuples\n",
    "- The keys in a dictionary may have different types\n",
    "- The values in a dictionary may have different types\n",
    "- The values in a dictionary may be mutable objects\n",
    "- The order of key: value pairs in a dictionary are independent of the order of their insertion into the dictionary"
   ]
  },
  {
   "cell_type": "code",
   "execution_count": 1,
   "id": "complimentary-reference",
   "metadata": {},
   "outputs": [
    {
     "data": {
      "text/plain": [
       "1"
      ]
     },
     "execution_count": 1,
     "metadata": {},
     "output_type": "execute_result"
    }
   ],
   "source": [
    "#unlike a list where order matters to select subsets, a dictionary is a lookup table with unique keys. \n",
    "#dictionary = {key:value, key:value}\n",
    "\n",
    "value = [1, 2, 3, 4] \n",
    "key = ['a', 'b', 'c', 'd']\n",
    "dictionary = {'a':1, 'b':2, 'c':3, 'd':4}\n",
    "\n",
    "#then you can find the corresponding value using the key \n",
    "dictionary['a']"
   ]
  },
  {
   "cell_type": "markdown",
   "id": "infrared-brunei",
   "metadata": {},
   "source": [
    "## Creating a Dictionary\n",
    "\n",
    "The methods used to create a dictionary include: \n",
    "- dictionary = {}\n",
    "- dictionary = dict()\n",
    "- d = dict(zip(List1, List2))"
   ]
  },
  {
   "cell_type": "code",
   "execution_count": 32,
   "id": "adequate-payment",
   "metadata": {},
   "outputs": [
    {
     "name": "stdout",
     "output_type": "stream",
     "text": [
      "<class 'dict'>\n"
     ]
    }
   ],
   "source": [
    "#Create an empty dictionary \n",
    "dictionary = {}\n",
    "print(type(dictionary))"
   ]
  },
  {
   "cell_type": "code",
   "execution_count": 38,
   "id": "convenient-chain",
   "metadata": {},
   "outputs": [
    {
     "name": "stdout",
     "output_type": "stream",
     "text": [
      "<class 'dict'>\n"
     ]
    }
   ],
   "source": [
    "#Create an empty dictionary\n",
    "functionDictionary = dict()\n",
    "print(type(functionDictionary))"
   ]
  },
  {
   "cell_type": "code",
   "execution_count": 34,
   "id": "available-jacob",
   "metadata": {},
   "outputs": [
    {
     "data": {
      "text/plain": [
       "{'a': 1, 'b': 2, 'c': 3, 'd': 4}"
      ]
     },
     "execution_count": 34,
     "metadata": {},
     "output_type": "execute_result"
    }
   ],
   "source": [
    "value = [1, 2, 3, 4] \n",
    "key = ['a', 'b', 'c', 'd']\n",
    "zipDictionary = dict(zip(key, value))\n",
    "zipDictionary"
   ]
  },
  {
   "cell_type": "markdown",
   "id": "ancient-diversity",
   "metadata": {},
   "source": [
    "## Check if Key in Dictionary "
   ]
  },
  {
   "cell_type": "code",
   "execution_count": 3,
   "id": "senior-grain",
   "metadata": {},
   "outputs": [
    {
     "data": {
      "text/plain": [
       "False"
      ]
     },
     "execution_count": 3,
     "metadata": {},
     "output_type": "execute_result"
    }
   ],
   "source": [
    "#Check if key exists in dictionary \n",
    "\"VariableKey\" in dictionary  "
   ]
  },
  {
   "cell_type": "code",
   "execution_count": 4,
   "id": "moral-daughter",
   "metadata": {},
   "outputs": [
    {
     "data": {
      "text/plain": [
       "True"
      ]
     },
     "execution_count": 4,
     "metadata": {},
     "output_type": "execute_result"
    }
   ],
   "source": [
    "#Check if key exists in dictionary \n",
    "\"c\" in dictionary  "
   ]
  },
  {
   "cell_type": "code",
   "execution_count": 28,
   "id": "essential-camel",
   "metadata": {},
   "outputs": [
    {
     "name": "stdout",
     "output_type": "stream",
     "text": [
      "'Fred' is not a key in dictionary\n"
     ]
    }
   ],
   "source": [
    "#Use a loop to check if key exists in dictionary\n",
    "if 'Fred' in dictionary: # Check to see if 'Fred' is a valid key\n",
    "    print(dictionary['Fred']) # Print the value associated with key 'Fred'\n",
    "else:print('\\'Fred\\' is not a key in dictionary') "
   ]
  },
  {
   "cell_type": "markdown",
   "id": "distinct-suspect",
   "metadata": {},
   "source": [
    "## Deleting Elements in Dictionary \n",
    "\n",
    "Use the del() to delete a key-value pair from a dictionary. If key is not in the dictionary, KeyError exception is raised. "
   ]
  },
  {
   "cell_type": "code",
   "execution_count": 6,
   "id": "happy-matter",
   "metadata": {},
   "outputs": [
    {
     "data": {
      "text/plain": [
       "{'b': 2, 'c': 3, 'd': 4}"
      ]
     },
     "execution_count": 6,
     "metadata": {},
     "output_type": "execute_result"
    }
   ],
   "source": [
    "#Delete keys and corresponding values from dictionary \n",
    "#del(dictionary[\"VariableKey\"]) \n",
    "\n",
    "del(dictionary[\"a\"])\n",
    "dictionary "
   ]
  },
  {
   "cell_type": "markdown",
   "id": "spectacular-healthcare",
   "metadata": {},
   "source": [
    "## Adding Values to Dictionary "
   ]
  },
  {
   "cell_type": "code",
   "execution_count": 9,
   "id": "equipped-democrat",
   "metadata": {},
   "outputs": [
    {
     "data": {
      "text/plain": [
       "{'b': 2, 'c': 3, 'd': 4, 'e': 5}"
      ]
     },
     "execution_count": 9,
     "metadata": {},
     "output_type": "execute_result"
    }
   ],
   "source": [
    "#Adding a single value to dictionary\n",
    "dictionary['e'] = 5\n",
    "dictionary"
   ]
  },
  {
   "cell_type": "code",
   "execution_count": 10,
   "id": "worth-technician",
   "metadata": {},
   "outputs": [
    {
     "data": {
      "text/plain": [
       "{'b': 2, 'c': 'cat', 'd': 4, 'e': 5}"
      ]
     },
     "execution_count": 10,
     "metadata": {},
     "output_type": "execute_result"
    }
   ],
   "source": [
    "#Updating value for existing key in dictionary \n",
    "dictionary['c'] = 'cat'\n",
    "dictionary"
   ]
  },
  {
   "cell_type": "code",
   "execution_count": 23,
   "id": "spectacular-washer",
   "metadata": {},
   "outputs": [
    {
     "name": "stdout",
     "output_type": "stream",
     "text": [
      "<class 'dict'>\n"
     ]
    },
    {
     "data": {
      "text/plain": [
       "{8: 44, True: 'right', 'Beta': 100, 3.4: True, 'Alpha': 'up'}"
      ]
     },
     "execution_count": 23,
     "metadata": {},
     "output_type": "execute_result"
    }
   ],
   "source": [
    "#A dictionary may have different key and value types\n",
    "s = {8: 44, True: 'right', 'Beta': 100, 3.4: True, 'Alpha': 'up'}\n",
    "print(type(s))\n",
    "s"
   ]
  },
  {
   "cell_type": "code",
   "execution_count": 24,
   "id": "stunning-starter",
   "metadata": {},
   "outputs": [
    {
     "data": {
      "text/plain": [
       "{False: 'wrong',\n",
       " True: 'right',\n",
       " 'Beta': 100,\n",
       " 'Alpha': 'up',\n",
       " 3.4: True,\n",
       " 17: [1, 2, 3],\n",
       " 8: 44,\n",
       " 15: 'down'}"
      ]
     },
     "execution_count": 24,
     "metadata": {},
     "output_type": "execute_result"
    }
   ],
   "source": [
    "#Example of Mixed type dictionary \n",
    "s = {False: 'wrong', True: 'right', 'Beta': 100, 'Alpha': 'up', 3.4: True,17: [1, 2 , 3], 8: 44, 15: 'down'}\n",
    "s"
   ]
  },
  {
   "cell_type": "code",
   "execution_count": 18,
   "id": "fossil-joint",
   "metadata": {},
   "outputs": [
    {
     "name": "stdout",
     "output_type": "stream",
     "text": [
      "{8: 44, True: 'right', 'Beta': 100, 3.4: True, 'Alpha': 'up', 17: [1, 2, 3]}\n"
     ]
    }
   ],
   "source": [
    "#In dictionary s, key 17, is a list of [1, 2, 3]\n",
    "s[17] = [1,2,3]\n",
    "print(s)"
   ]
  },
  {
   "cell_type": "markdown",
   "id": "disturbed-secretary",
   "metadata": {},
   "source": [
    "## Built in Functions & Dictionary Methods \n",
    "\n",
    "Functions: \n",
    "- len() function: used to obtain number of elements in a dictionary\n",
    "\n",
    "Methods: \n",
    "- **dictionary.clear()** deletes all the elements in a dictionary, leaving it empty\n",
    "- **dictionary.items()** returns all the dictionaries keys and associated values. Returned as a dictionary view. Each element in dictionary view is a tuple which contains a key and its associated value.  \n",
    "- **dictionary.keys()** returns all the dictionaries keys as a sequence\n",
    "- **dictionary.values()** returns all the dictionaries values as a sequence\n",
    "- **dictionary.get(key, default)** gets a value associated with specified key from the dictionary. Alternative to dictionary[] because it cannot raise keyvalue error. If the key is not available then default shows. \n",
    "- **dictionary.pop(key, default)** returns value associated with specified key and removes that key-value pair from the dictionary\n",
    "- **dictionary.popitem()** returns a randomly selected key-value pair and removes that key-value pair from the dictionary. Key-value pair returned as a tuple. "
   ]
  },
  {
   "cell_type": "code",
   "execution_count": 42,
   "id": "convenient-pound",
   "metadata": {},
   "outputs": [
    {
     "data": {
      "text/plain": [
       "{'a': 1, 'b': 2, 'c': 3, 'd': 4}"
      ]
     },
     "execution_count": 42,
     "metadata": {},
     "output_type": "execute_result"
    }
   ],
   "source": [
    "#Creating a dictionary\n",
    "dictionary = {'a':1, 'b':2, 'c':3, 'd':4}\n",
    "dictionary"
   ]
  },
  {
   "cell_type": "code",
   "execution_count": 43,
   "id": "processed-qualification",
   "metadata": {},
   "outputs": [
    {
     "data": {
      "text/plain": [
       "4"
      ]
     },
     "execution_count": 43,
     "metadata": {},
     "output_type": "execute_result"
    }
   ],
   "source": [
    "#How many elements are in the dictionary \n",
    "len(dictionary)"
   ]
  },
  {
   "cell_type": "code",
   "execution_count": 44,
   "id": "threatened-timber",
   "metadata": {},
   "outputs": [
    {
     "data": {
      "text/plain": [
       "dict_items([('a', 1), ('b', 2), ('c', 3), ('d', 4)])"
      ]
     },
     "execution_count": 44,
     "metadata": {},
     "output_type": "execute_result"
    }
   ],
   "source": [
    "#Lists all the keys and values in the dictionary\n",
    "dictionary.items()"
   ]
  },
  {
   "cell_type": "code",
   "execution_count": 45,
   "id": "verbal-census",
   "metadata": {},
   "outputs": [
    {
     "data": {
      "text/plain": [
       "dict_keys(['a', 'b', 'c', 'd'])"
      ]
     },
     "execution_count": 45,
     "metadata": {},
     "output_type": "execute_result"
    }
   ],
   "source": [
    "#Returns all the keys in the dictionary\n",
    "dictionary.keys()"
   ]
  },
  {
   "cell_type": "code",
   "execution_count": 46,
   "id": "central-collector",
   "metadata": {},
   "outputs": [
    {
     "data": {
      "text/plain": [
       "dict_values([1, 2, 3, 4])"
      ]
     },
     "execution_count": 46,
     "metadata": {},
     "output_type": "execute_result"
    }
   ],
   "source": [
    "#Returns all the values in the dictionary\n",
    "dictionary.values()"
   ]
  },
  {
   "cell_type": "code",
   "execution_count": 48,
   "id": "disciplinary-storm",
   "metadata": {},
   "outputs": [
    {
     "data": {
      "text/plain": [
       "3"
      ]
     },
     "execution_count": 48,
     "metadata": {},
     "output_type": "execute_result"
    }
   ],
   "source": [
    "#Returns the value for the specified key \n",
    "dictionary.get('c')"
   ]
  },
  {
   "cell_type": "code",
   "execution_count": 49,
   "id": "arbitrary-shell",
   "metadata": {},
   "outputs": [],
   "source": [
    "#returns nothing if key does not exist \n",
    "dictionary.get('f')"
   ]
  },
  {
   "cell_type": "code",
   "execution_count": 51,
   "id": "wooden-favor",
   "metadata": {},
   "outputs": [
    {
     "data": {
      "text/plain": [
       "1"
      ]
     },
     "execution_count": 51,
     "metadata": {},
     "output_type": "execute_result"
    }
   ],
   "source": [
    "#returns the value for the key, and removes key-value pair from dictionary\n",
    "dictionary.pop('a')"
   ]
  },
  {
   "cell_type": "code",
   "execution_count": 52,
   "id": "normal-portal",
   "metadata": {},
   "outputs": [
    {
     "data": {
      "text/plain": [
       "{'b': 2, 'c': 3, 'd': 4}"
      ]
     },
     "execution_count": 52,
     "metadata": {},
     "output_type": "execute_result"
    }
   ],
   "source": [
    "#The 'a': 1, key value pair no longer exist because of the pop function above\n",
    "dictionary"
   ]
  },
  {
   "cell_type": "code",
   "execution_count": 53,
   "id": "scheduled-therapist",
   "metadata": {},
   "outputs": [
    {
     "data": {
      "text/plain": [
       "('d', 4)"
      ]
     },
     "execution_count": 53,
     "metadata": {},
     "output_type": "execute_result"
    }
   ],
   "source": [
    "#Removes a random key-value pair from dictionary\n",
    "dictionary.popitem()"
   ]
  },
  {
   "cell_type": "code",
   "execution_count": 54,
   "id": "certified-fetish",
   "metadata": {},
   "outputs": [
    {
     "data": {
      "text/plain": [
       "{'b': 2, 'c': 3}"
      ]
     },
     "execution_count": 54,
     "metadata": {},
     "output_type": "execute_result"
    }
   ],
   "source": [
    "dictionary"
   ]
  },
  {
   "cell_type": "code",
   "execution_count": 56,
   "id": "extra-assist",
   "metadata": {},
   "outputs": [
    {
     "data": {
      "text/plain": [
       "{}"
      ]
     },
     "execution_count": 56,
     "metadata": {},
     "output_type": "execute_result"
    }
   ],
   "source": [
    "#Removes everything from dictionary\n",
    "dictionary.clear()\n",
    "dictionary"
   ]
  },
  {
   "cell_type": "markdown",
   "id": "excess-description",
   "metadata": {},
   "source": [
    "# Dictionary Examples "
   ]
  },
  {
   "cell_type": "markdown",
   "id": "fleet-example",
   "metadata": {},
   "source": [
    "## Phone List "
   ]
  },
  {
   "cell_type": "code",
   "execution_count": 57,
   "id": "dirty-documentation",
   "metadata": {},
   "outputs": [
    {
     "name": "stdin",
     "output_type": "stream",
     "text": [
      "A)dd D)elete L)ook up Q)uit:  A\n",
      "Enter new name: Amanda\n"
     ]
    },
    {
     "name": "stdout",
     "output_type": "stream",
     "text": [
      "Enter phone number for Amanda:"
     ]
    },
    {
     "name": "stdin",
     "output_type": "stream",
     "text": [
      " 123-456-7890\n",
      "A)dd D)elete L)ook up Q)uit:  L\n",
      "Enter name : Amanda\n"
     ]
    },
    {
     "name": "stdout",
     "output_type": "stream",
     "text": [
      "Amanda 123-456-7890\n"
     ]
    },
    {
     "name": "stdin",
     "output_type": "stream",
     "text": [
      "A)dd D)elete L)ook up Q)uit:  Q\n"
     ]
    }
   ],
   "source": [
    "#Use an input statement to collect names and phone numbers into a contacts list\n",
    "\n",
    "contacts = {} # The global telephone contact list\n",
    "\n",
    "running = True\n",
    "\n",
    "while running:\n",
    "    command = input('A)dd D)elete L)ook up Q)uit: ')\n",
    "    if command == 'A' or command == 'a' :\n",
    "        name = input('Enter new name:')\n",
    "        print('Enter phone number for', name, end=':')\n",
    "        number = input()\n",
    "        contacts[name] = number\n",
    "    elif command == 'D' or command == 'd':\n",
    "        name = input('Enter name to delete :')\n",
    "        del contacts[name]\n",
    "    elif command == 'L' or command == 'l':\n",
    "        name = input('Enter name :')\n",
    "        print(name, contacts[name])\n",
    "    elif command == 'Q' or command == 'q':\n",
    "        running = False\n",
    "    elif command == 'dump': # Secret command\n",
    "        print(contacts)\n",
    "    else:\n",
    "        print(command, 'is not a valid command')\n",
    "        \n",
    "#Example from textbook, Exercise 11.7 phonelist.py"
   ]
  },
  {
   "cell_type": "markdown",
   "id": "aware-simulation",
   "metadata": {},
   "source": [
    "# Creating Dictionary: Phonetic Alaphabet "
   ]
  },
  {
   "cell_type": "code",
   "execution_count": 13,
   "id": "victorian-tablet",
   "metadata": {},
   "outputs": [
    {
     "name": "stdout",
     "output_type": "stream",
     "text": [
      "<class 'dict'>\n"
     ]
    }
   ],
   "source": [
    "#Create empty dictionary\n",
    "phonetic = {}\n",
    "print(type(phonetic))"
   ]
  },
  {
   "cell_type": "code",
   "execution_count": 14,
   "id": "exterior-milton",
   "metadata": {},
   "outputs": [
    {
     "data": {
      "text/plain": [
       "{'A': 'Alpha'}"
      ]
     },
     "execution_count": 14,
     "metadata": {},
     "output_type": "execute_result"
    }
   ],
   "source": [
    "#Add an element to dictionary\n",
    "phonetic['A'] = 'Alpha'\n",
    "phonetic"
   ]
  }
 ],
 "metadata": {
  "kernelspec": {
   "display_name": "Python 3",
   "language": "python",
   "name": "python3"
  },
  "language_info": {
   "codemirror_mode": {
    "name": "ipython",
    "version": 3
   },
   "file_extension": ".py",
   "mimetype": "text/x-python",
   "name": "python",
   "nbconvert_exporter": "python",
   "pygments_lexer": "ipython3",
   "version": "3.8.5"
  },
  "toc-autonumbering": false,
  "toc-showtags": true
 },
 "nbformat": 4,
 "nbformat_minor": 5
}
