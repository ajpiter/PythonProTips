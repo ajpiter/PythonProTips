{
 "cells": [
  {
   "cell_type": "markdown",
   "metadata": {},
   "source": [
    "## Functions \n",
    "\n",
    "##### You can call a function instead of rewriting the code yourslef using (). \n",
    "\n",
    "## Built in Functions \n",
    "##### Examples of built in functions are round(), max(), len(). \n",
    "\n",
    "### round()\n",
    "##### Rounds the number you place inside the () to the number of digits you specify. \n",
    "##### If digits are not specified than the number will be rounded to 0 digits. "
   ]
  },
  {
   "cell_type": "code",
   "execution_count": 2,
   "metadata": {},
   "outputs": [
    {
     "name": "stdout",
     "output_type": "stream",
     "text": [
      "23\n",
      "22.8\n",
      "22.79\n"
     ]
    }
   ],
   "source": [
    "#round(NumberToRound, DigitsToRound)\n",
    "print(round(22.79)) \n",
    "print(round(22.79, 1))\n",
    "print(round(22.79, 2))"
   ]
  },
  {
   "cell_type": "markdown",
   "metadata": {},
   "source": [
    "### New Function: Sayhello()"
   ]
  },
  {
   "cell_type": "code",
   "execution_count": 3,
   "metadata": {},
   "outputs": [],
   "source": [
    "#Example from QMB6930 \n",
    "#Start by creating a new class \"Person\" which enables you to input values into the function\n",
    "#Then create the function \"Sayhello()\"\"\n",
    "\n",
    "class Person:\n",
    "    def __init__(self, name):\n",
    "        self.name = name\n",
    "    def Sayhello(self):\n",
    "        print('Hello, my name is', self.name)\n",
    "    def __del__(self):\n",
    "        print('%s says goodbye' % self.name)"
   ]
  },
  {
   "cell_type": "code",
   "execution_count": 4,
   "metadata": {},
   "outputs": [],
   "source": [
    "#Before running the function you will need to have inputs formatted according to the class \"Person\"\n",
    "ExamplePerson = Person('First Last')"
   ]
  },
  {
   "cell_type": "code",
   "execution_count": 5,
   "metadata": {},
   "outputs": [
    {
     "data": {
      "text/plain": [
       "'First Last'"
      ]
     },
     "execution_count": 5,
     "metadata": {},
     "output_type": "execute_result"
    }
   ],
   "source": [
    "#Use .name to verify the input of the Person \"ExamplePerson\"\n",
    "ExamplePerson.name"
   ]
  },
  {
   "cell_type": "code",
   "execution_count": 6,
   "metadata": {},
   "outputs": [
    {
     "name": "stdout",
     "output_type": "stream",
     "text": [
      "Hello, my name is First Last\n"
     ]
    }
   ],
   "source": [
    "#Call the function by writting Variable.Sayhello()\n",
    "ExamplePerson.Sayhello()"
   ]
  },
  {
   "cell_type": "code",
   "execution_count": 8,
   "metadata": {},
   "outputs": [
    {
     "ename": "NameError",
     "evalue": "name 'Sayhello' is not defined",
     "output_type": "error",
     "traceback": [
      "\u001b[0;31m---------------------------------------------------------------------------\u001b[0m",
      "\u001b[0;31mNameError\u001b[0m                                 Traceback (most recent call last)",
      "\u001b[0;32m<ipython-input-8-a2a55e7efead>\u001b[0m in \u001b[0;36m<module>\u001b[0;34m\u001b[0m\n\u001b[0;32m----> 1\u001b[0;31m \u001b[0mSayhello\u001b[0m\u001b[0;34m(\u001b[0m\u001b[0;34m'ExamplePerson'\u001b[0m\u001b[0;34m)\u001b[0m\u001b[0;34m\u001b[0m\u001b[0;34m\u001b[0m\u001b[0m\n\u001b[0m",
      "\u001b[0;31mNameError\u001b[0m: name 'Sayhello' is not defined"
     ]
    }
   ],
   "source": [
    "#Function Sayhello() works differently than round() putting the person within the () will throw an error\n",
    "Sayhello(ExamplePerson)"
   ]
  },
  {
   "cell_type": "code",
   "execution_count": 11,
   "metadata": {},
   "outputs": [
    {
     "name": "stdout",
     "output_type": "stream",
     "text": [
      "First Last says goodbye\n"
     ]
    }
   ],
   "source": [
    "#Use the del() function to delete the ExamplePerson \n",
    "del(ExamplePerson)"
   ]
  },
  {
   "cell_type": "code",
   "execution_count": 12,
   "metadata": {},
   "outputs": [
    {
     "ename": "NameError",
     "evalue": "name 'ExamplePerson' is not defined",
     "output_type": "error",
     "traceback": [
      "\u001b[0;31m---------------------------------------------------------------------------\u001b[0m",
      "\u001b[0;31mNameError\u001b[0m                                 Traceback (most recent call last)",
      "\u001b[0;32m<ipython-input-12-140088bee30c>\u001b[0m in \u001b[0;36m<module>\u001b[0;34m\u001b[0m\n\u001b[0;32m----> 1\u001b[0;31m \u001b[0mExamplePerson\u001b[0m\u001b[0;34m.\u001b[0m\u001b[0mSayhello\u001b[0m\u001b[0;34m(\u001b[0m\u001b[0;34m)\u001b[0m\u001b[0;34m\u001b[0m\u001b[0;34m\u001b[0m\u001b[0m\n\u001b[0m",
      "\u001b[0;31mNameError\u001b[0m: name 'ExamplePerson' is not defined"
     ]
    }
   ],
   "source": [
    "#ExamplePerson is no longer defined as a \"Person\" class and therefore cannot be used in the Sayhello(). \n",
    "ExamplePerson.Sayhello()"
   ]
  },
  {
   "cell_type": "code",
   "execution_count": null,
   "metadata": {},
   "outputs": [],
   "source": []
  }
 ],
 "metadata": {
  "kernelspec": {
   "display_name": "Python 3",
   "language": "python",
   "name": "python3"
  },
  "language_info": {
   "codemirror_mode": {
    "name": "ipython",
    "version": 3
   },
   "file_extension": ".py",
   "mimetype": "text/x-python",
   "name": "python",
   "nbconvert_exporter": "python",
   "pygments_lexer": "ipython3",
   "version": "3.8.5"
  }
 },
 "nbformat": 4,
 "nbformat_minor": 4
}
