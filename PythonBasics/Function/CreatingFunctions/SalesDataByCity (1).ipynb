{
 "cells": [
  {
   "cell_type": "markdown",
   "metadata": {},
   "source": [
    "## Statewide Sales Data by City \n",
    "\n",
    "We have a list of lists that includes sales data for the state of Florida by city. We'd like to see a breakdown of total sales by city and a total statewide. "
   ]
  },
  {
   "cell_type": "code",
   "execution_count": 3,
   "metadata": {},
   "outputs": [
    {
     "name": "stdout",
     "output_type": "stream",
     "text": [
      "Items Sold in Orlando 51\n",
      "Items Sold in Tampa 15\n",
      "Items Sold in Miami 30\n",
      "Total Sales in Florida: 96\n"
     ]
    }
   ],
   "source": [
    "sales_data = [[12, 17, 22], [2, 10, 3], [5, 12, 13]]\n",
    "\n",
    "#Divide the Sales Data by City \n",
    "Orlando, Tampa, Miami = sales_data\n",
    "O, T, M = \"Orlando\", \"Tampa\", \"Miami\" #This improves our print() inside the StoreSales()\n",
    "\n",
    "#Create a function to print sales data by store\n",
    "def StoreSales(Store, A): \n",
    "  StoreSales = 0\n",
    "  for scoop in Store:\n",
    "      StoreSales += scoop\n",
    "  print(\"Items Sold in\", A, StoreSales)\n",
    "\n",
    "#Call the function for each city\n",
    "StoreSales(Orlando, O)\n",
    "StoreSales(Tampa, T)\n",
    "StoreSales(Miami, M)\n",
    "\n",
    "#Create a loop to Calculate Total Sales \n",
    "scoops_sold = 0\n",
    "for location in sales_data:\n",
    "    for scoop in location: \n",
    "      scoops_sold += scoop\n",
    "print(\"Total Sales in Florida:\", scoops_sold)"
   ]
  },
  {
   "cell_type": "code",
   "execution_count": null,
   "metadata": {},
   "outputs": [],
   "source": []
  }
 ],
 "metadata": {
  "kernelspec": {
   "display_name": "Python 3",
   "language": "python",
   "name": "python3"
  },
  "language_info": {
   "codemirror_mode": {
    "name": "ipython",
    "version": 3
   },
   "file_extension": ".py",
   "mimetype": "text/x-python",
   "name": "python",
   "nbconvert_exporter": "python",
   "pygments_lexer": "ipython3",
   "version": "3.8.6"
  }
 },
 "nbformat": 4,
 "nbformat_minor": 4
}
