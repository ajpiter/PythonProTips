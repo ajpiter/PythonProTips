{
 "cells": [
  {
   "cell_type": "markdown",
   "metadata": {},
   "source": [
    "## Function input()\n",
    "\n",
    "#### input() allows us to create programs where the user provides additional information in the form of inputs. "
   ]
  },
  {
   "cell_type": "code",
   "execution_count": 1,
   "metadata": {},
   "outputs": [
    {
     "name": "stdin",
     "output_type": "stream",
     "text": [
      " 89\n"
     ]
    }
   ],
   "source": [
    "x = input()"
   ]
  },
  {
   "cell_type": "code",
   "execution_count": 2,
   "metadata": {},
   "outputs": [
    {
     "data": {
      "text/plain": [
       "'89'"
      ]
     },
     "execution_count": 2,
     "metadata": {},
     "output_type": "execute_result"
    }
   ],
   "source": [
    "#Now by calling 'x' anywhere in my program I get the value inputed by the user\n",
    "x"
   ]
  },
  {
   "cell_type": "code",
   "execution_count": 3,
   "metadata": {},
   "outputs": [
    {
     "name": "stdout",
     "output_type": "stream",
     "text": [
      "8989\n",
      "<class 'str'>\n"
     ]
    }
   ],
   "source": [
    "#The default data type for inputs are strings \n",
    "#Multipling the input prints the interger value twice. \n",
    "print(x*2)\n",
    "print(type(x))"
   ]
  },
  {
   "cell_type": "code",
   "execution_count": 4,
   "metadata": {},
   "outputs": [
    {
     "name": "stdout",
     "output_type": "stream",
     "text": [
      "Please input an interger value:\n"
     ]
    },
    {
     "name": "stdin",
     "output_type": "stream",
     "text": [
      " 89\n"
     ]
    },
    {
     "name": "stdout",
     "output_type": "stream",
     "text": [
      "178\n"
     ]
    }
   ],
   "source": [
    "#You can provide instructions for users on what to input by including a print() statement before the input() request\n",
    "#Then convert the str to int() allowing for int multiplication \n",
    "\n",
    "print('Please input an interger value:')\n",
    "x = input()\n",
    "x = int(x)\n",
    "print(x*2)"
   ]
  },
  {
   "cell_type": "code",
   "execution_count": 5,
   "metadata": {},
   "outputs": [
    {
     "name": "stdin",
     "output_type": "stream",
     "text": [
      "Please enter an integer value:  89\n",
      "Please enter a number:  89.4678\n"
     ]
    },
    {
     "data": {
      "text/plain": [
       "89"
      ]
     },
     "execution_count": 5,
     "metadata": {},
     "output_type": "execute_result"
    }
   ],
   "source": [
    "#Functional Composition \n",
    "\n",
    "#Requires users to input an integer value \n",
    "int(input('Please enter an integer value: '))\n",
    "\n",
    "#Requires user to input a numeric value, including decimals \n",
    "int(float(input('Please enter a number: ')))\n",
    "\n",
    "#Functional composition makes the program code simpler."
   ]
  },
  {
   "cell_type": "markdown",
   "metadata": {},
   "source": [
    "## Add if, ifelse or elif Statements \n",
    "#### By incorporating if statements into your input() functions you can control what values users are able to use "
   ]
  },
  {
   "cell_type": "code",
   "execution_count": 6,
   "metadata": {},
   "outputs": [
    {
     "name": "stdin",
     "output_type": "stream",
     "text": [
      "Please enter the tempature in Celsius: 89\n"
     ]
    },
    {
     "name": "stdout",
     "output_type": "stream",
     "text": [
      "Are you sure you entered the Tempature in C?  89  degrees Celsius is larger than the highest recorded temperature on earth which was 56.7.\n"
     ]
    }
   ],
   "source": [
    "TempC = int(input(\"Please enter the tempature in Celsius:\"))\n",
    "if TempC >= -90: # First check\n",
    "    if TempC <= 58: # Second check\n",
    "        print(\"The tempature in F is \", (TempC*2 + 30))\n",
    "    else:\n",
    "        print(\"Are you sure you entered the Tempature in C? \", TempC, \" degrees Celsius is larger than the highest recorded temperature on earth which was 56.7.\")\n",
    "else:\n",
    "    print(\"Are you sure you entered the Tempature in C?\", TempC, \"degrees Celsius is smaller than the lowest recorded temperature on earth which was -89.2.\")"
   ]
  },
  {
   "cell_type": "markdown",
   "metadata": {},
   "source": [
    "## Add print() Statements \n",
    "#### after a user has inputed a value "
   ]
  },
  {
   "cell_type": "code",
   "execution_count": 7,
   "metadata": {},
   "outputs": [
    {
     "name": "stdout",
     "output_type": "stream",
     "text": [
      "Thank you for your input of 89\n",
      "Done\n"
     ]
    }
   ],
   "source": [
    "#Even if there isn't an output indicate that the value was recieved \n",
    "print('Thank you for your input of ' + str(x))\n",
    "#Classic minimal example \n",
    "print('Done')\n",
    "\n",
    "#More descriptive print() statements help a user understand the result of the program \n",
    "#print('Given B = $' + str(B) + ', S = $' + str(S) + ' for ' + str(N) + ':')\n",
    "#print('Your monthly management fee will be $' + '{:.2f}'.format(F) + \".\")\n",
    "#print(\"The total revenue from this sale will be $\" + '{:.2f}'.format(TAR) + \" and the commission earned by \" + A + \" will be $\" + '{:.2f}'.format(C) + '.')"
   ]
  },
  {
   "cell_type": "code",
   "execution_count": null,
   "metadata": {},
   "outputs": [],
   "source": []
  }
 ],
 "metadata": {
  "kernelspec": {
   "display_name": "Python 3",
   "language": "python",
   "name": "python3"
  },
  "language_info": {
   "codemirror_mode": {
    "name": "ipython",
    "version": 3
   },
   "file_extension": ".py",
   "mimetype": "text/x-python",
   "name": "python",
   "nbconvert_exporter": "python",
   "pygments_lexer": "ipython3",
   "version": "3.8.5"
  }
 },
 "nbformat": 4,
 "nbformat_minor": 4
}
