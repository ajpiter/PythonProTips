{
 "cells": [
  {
   "cell_type": "markdown",
   "metadata": {},
   "source": [
    "## Tuples \n",
    "\n",
    "Lists Versus Tuples\n",
    "Tuples are used to collect an immutable ordered list of elements. This means that:\n",
    "\n",
    "- You can’t add elements to a tuple. There’s no append() or extend() method for tuples,\n",
    "- You can’t remove elements from a tuple. Tuples have no remove() or pop() method,\n",
    "- You can find elements in a tuple since this doesn’t change the tuple.\n",
    "- You can also use the in operator to check if an element exists in the tuple.\n",
    "\n",
    "So, if you’re defining a constant set of values and all you’re going to do with it is iterate through it, use a tuple instead of a list. It will be faster than working with lists and also safer, as the tuples contain “write-protect” data."
   ]
  },
  {
   "cell_type": "code",
   "execution_count": 3,
   "metadata": {},
   "outputs": [
    {
     "name": "stdout",
     "output_type": "stream",
     "text": [
      "<class 'tuple'>\n"
     ]
    }
   ],
   "source": [
    "#Use () when creating a tuple \n",
    "tuple = ('Apple', 'Bear', 'Clown', 'Dog')\n",
    "print(type(tuple))"
   ]
  },
  {
   "cell_type": "code",
   "execution_count": 4,
   "metadata": {},
   "outputs": [
    {
     "name": "stdout",
     "output_type": "stream",
     "text": [
      "<class 'list'>\n"
     ]
    }
   ],
   "source": [
    "#For comparison a list uses []\n",
    "list = ['Apple', 'Bear', 'Clown', 'Dog']\n",
    "print(type(list))"
   ]
  },
  {
   "cell_type": "markdown",
   "metadata": {},
   "source": [
    "### Indexing Tuples \n",
    "\n",
    "Indexing tuples works using the same commands you would use for a list. \n",
    "variable[1:3] or variable[-1]"
   ]
  },
  {
   "cell_type": "code",
   "execution_count": 5,
   "metadata": {},
   "outputs": [
    {
     "name": "stdout",
     "output_type": "stream",
     "text": [
      "Apple\n",
      "Dog\n",
      "('Bear', 'Clown', 'Dog')\n"
     ]
    }
   ],
   "source": [
    "first = tuple[0]\n",
    "print(first)\n",
    "\n",
    "last = tuple[-1]\n",
    "print(last)\n",
    "\n",
    "slice = tuple[1:4]\n",
    "print(slice)"
   ]
  },
  {
   "cell_type": "markdown",
   "metadata": {},
   "source": [
    "### Immutable \n",
    "\n",
    "Tuples are special because once assigned you cannot change an element. The example below will throw an error. "
   ]
  },
  {
   "cell_type": "code",
   "execution_count": 7,
   "metadata": {},
   "outputs": [
    {
     "ename": "TypeError",
     "evalue": "'tuple' object does not support item assignment",
     "output_type": "error",
     "traceback": [
      "\u001b[0;31m---------------------------------------------------------------------------\u001b[0m",
      "\u001b[0;31mTypeError\u001b[0m                                 Traceback (most recent call last)",
      "\u001b[0;32m<ipython-input-7-f16b7c0abbbd>\u001b[0m in \u001b[0;36m<module>\u001b[0;34m\u001b[0m\n\u001b[0;32m----> 1\u001b[0;31m \u001b[0mtuple\u001b[0m\u001b[0;34m[\u001b[0m\u001b[0;36m0\u001b[0m\u001b[0;34m]\u001b[0m \u001b[0;34m=\u001b[0m \u001b[0;34m'Amazon'\u001b[0m\u001b[0;34m\u001b[0m\u001b[0;34m\u001b[0m\u001b[0m\n\u001b[0m",
      "\u001b[0;31mTypeError\u001b[0m: 'tuple' object does not support item assignment"
     ]
    }
   ],
   "source": [
    "tuple[0] = 'Amazon'"
   ]
  },
  {
   "cell_type": "code",
   "execution_count": 9,
   "metadata": {},
   "outputs": [
    {
     "name": "stdout",
     "output_type": "stream",
     "text": [
      "['Amazon', 'Bear', 'Clown', 'Dog']\n"
     ]
    }
   ],
   "source": [
    "#A list can be edited once created\n",
    "list[0] = 'Amazon'\n",
    "print(list)"
   ]
  },
  {
   "cell_type": "markdown",
   "metadata": {},
   "source": [
    "### Unpacking Tuples \n",
    "\n",
    "Use to store the information inside a tuple to specified variables. "
   ]
  },
  {
   "cell_type": "code",
   "execution_count": 11,
   "metadata": {},
   "outputs": [
    {
     "name": "stdout",
     "output_type": "stream",
     "text": [
      "Apple\n",
      "Bear\n",
      "Clown\n",
      "Dog\n"
     ]
    }
   ],
   "source": [
    "tuple = ('Apple', 'Bear', 'Clown', 'Dog')\n",
    "\n",
    "#The variables on the left must equal the number of variables in the tuple to store everything \n",
    "Fruit, Animal, Entertainment, Pet = tuple \n",
    "print(Fruit)\n",
    "print(Animal)\n",
    "print(Entertainment)\n",
    "print(Pet)"
   ]
  },
  {
   "cell_type": "markdown",
   "metadata": {},
   "source": [
    "### References \n",
    "1. [DataCamp Tutorial: 18 Most Common Python List Questions](https://www.datacamp.com/community/tutorials/18-most-common-python-list-questions-learn-python)\n",
    "2. [Code Academy Video: Learn Python Tuples](https://www.codecademy.com/courses/learn-python-3/videos/learn-python3-tuples)"
   ]
  },
  {
   "cell_type": "code",
   "execution_count": null,
   "metadata": {},
   "outputs": [],
   "source": []
  }
 ],
 "metadata": {
  "kernelspec": {
   "display_name": "Python 3",
   "language": "python",
   "name": "python3"
  },
  "language_info": {
   "codemirror_mode": {
    "name": "ipython",
    "version": 3
   },
   "file_extension": ".py",
   "mimetype": "text/x-python",
   "name": "python",
   "nbconvert_exporter": "python",
   "pygments_lexer": "ipython3",
   "version": "3.8.5"
  }
 },
 "nbformat": 4,
 "nbformat_minor": 4
}
