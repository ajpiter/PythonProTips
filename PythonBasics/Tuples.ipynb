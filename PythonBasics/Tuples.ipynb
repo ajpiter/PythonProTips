{
 "cells": [
  {
   "cell_type": "markdown",
   "id": "technical-effort",
   "metadata": {},
   "source": [
    "# List vs. Tuple\n",
    "\n",
    "A tuple is an inmutable sequence similar to a list except that once it is created it cannot be changed. Generally a Tuple accepts the same methods as a list. \n",
    "\n",
    "Tuples are used to collect an immutable ordered list of elements. This means that:\n",
    "\n",
    "- You can’t add elements to a tuple. There’s no append() or extend() method for tuples,\n",
    "- You can’t remove elements from a tuple. Tuples have no remove() or pop() method,\n",
    "- You can find elements in a tuple since this doesn’t change the tuple.\n",
    "- You can also use the in operator to check if an element exists in the tuple.\n",
    "\n",
    "So, if you’re defining a constant set of values and all you’re going to do with it is iterate through it, use a tuple instead of a list. It will be faster than working with lists and also safer, as the tuples contain “write-protect” data.\n",
    "\n",
    "Tuples do not support the methods: \n",
    "- insert()\n",
    "- append() or extend()\n",
    "- remove() or pop()  \n",
    "- reverse() or sort()"
   ]
  },
  {
   "cell_type": "code",
   "execution_count": 25,
   "id": "dramatic-particular",
   "metadata": {},
   "outputs": [
    {
     "name": "stdout",
     "output_type": "stream",
     "text": [
      "<class 'tuple'>\n"
     ]
    }
   ],
   "source": [
    "#Use () when creating a tuple \n",
    "tuple = ('Apple', 'Bear', 'Clown', 'Dog')\n",
    "print(type(tuple))"
   ]
  },
  {
   "cell_type": "code",
   "execution_count": 26,
   "id": "laughing-shift",
   "metadata": {},
   "outputs": [
    {
     "name": "stdout",
     "output_type": "stream",
     "text": [
      "<class 'list'>\n"
     ]
    }
   ],
   "source": [
    "#For comparison a list uses []\n",
    "list = ['Apple', 'Bear', 'Clown', 'Dog']\n",
    "print(type(list))"
   ]
  },
  {
   "cell_type": "code",
   "execution_count": 27,
   "id": "welcome-looking",
   "metadata": {},
   "outputs": [
    {
     "name": "stdout",
     "output_type": "stream",
     "text": [
      "The list: [1, 2, 3, 4, 5, 6, 7]\n",
      "The tuple: (1, 2, 3, 4, 5, 6, 7)\n"
     ]
    }
   ],
   "source": [
    "#Create list & tuple \n",
    "my_list = [1, 2, 3, 4, 5, 6, 7] # Make a list\n",
    "my_tuple = (1, 2, 3, 4, 5, 6, 7) # Make a tuple\n",
    "\n",
    "# Print List & Tuple\"\n",
    "print('The list:', my_list) # Print the list\n",
    "print('The tuple:', my_tuple) # Print the tuple\n",
    "\n",
    "#Example from Book, 11.11 tupletest.py"
   ]
  },
  {
   "cell_type": "code",
   "execution_count": 30,
   "id": "indie-trade",
   "metadata": {},
   "outputs": [
    {
     "name": "stdout",
     "output_type": "stream",
     "text": [
      "Apple\n",
      "Dog\n",
      "('Bear', 'Clown', 'Dog')\n"
     ]
    }
   ],
   "source": [
    "#Indexing List & Tuple \n",
    "tuple = ('Apple', 'Bear', 'Clown', 'Dog')\n",
    "\n",
    "first = tuple[0] # Access first element\n",
    "print(first)\n",
    "\n",
    "last = tuple[-1] # Access last element\n",
    "print(last)\n",
    "\n",
    "slice = tuple[1:4]\n",
    "print(slice)"
   ]
  },
  {
   "cell_type": "code",
   "execution_count": 32,
   "id": "expired-canberra",
   "metadata": {},
   "outputs": [
    {
     "name": "stdout",
     "output_type": "stream",
     "text": [
      "Iterate over elements in List & Tuple\n",
      "All the elements in the list: 1 2 3 4 5 6 7 \n",
      "All the elements in the tuple: 1 2 3 4 5 6 7 "
     ]
    }
   ],
   "source": [
    "#Iterate over Tuple \n",
    "print(\"Iterate over elements in List & Tuple\")\n",
    "print('All the elements in the list:', end=' ')\n",
    "for elem in my_list: # Iterate over the elements of a list\n",
    "    print(elem, end=' ')\n",
    "print()\n",
    "print('All the elements in the tuple:', end=' ')\n",
    "for elem in my_tuple: # Iterate over the elements of a tuple\n",
    "    print(elem, end=' ')\n",
    "\n",
    "#Example from Book, 11.11 tupletest.py"
   ]
  },
  {
   "cell_type": "markdown",
   "id": "greek-shell",
   "metadata": {},
   "source": [
    "## Immutable \n",
    "\n",
    "Tuples are special because once assigned you cannot change an element. The example below will throw an error."
   ]
  },
  {
   "cell_type": "code",
   "execution_count": 34,
   "id": "elder-queens",
   "metadata": {},
   "outputs": [
    {
     "ename": "TypeError",
     "evalue": "'tuple' object does not support item assignment",
     "output_type": "error",
     "traceback": [
      "\u001b[0;31m---------------------------------------------------------------------------\u001b[0m",
      "\u001b[0;31mTypeError\u001b[0m                                 Traceback (most recent call last)",
      "\u001b[0;32m<ipython-input-34-63b98d1887e8>\u001b[0m in \u001b[0;36m<module>\u001b[0;34m\u001b[0m\n\u001b[1;32m      1\u001b[0m \u001b[0;31m#Tuples cannot be changed\u001b[0m\u001b[0;34m\u001b[0m\u001b[0;34m\u001b[0m\u001b[0;34m\u001b[0m\u001b[0m\n\u001b[1;32m      2\u001b[0m \u001b[0mtuple\u001b[0m \u001b[0;34m=\u001b[0m \u001b[0;34m(\u001b[0m\u001b[0;34m'Apple'\u001b[0m\u001b[0;34m,\u001b[0m \u001b[0;34m'Bear'\u001b[0m\u001b[0;34m,\u001b[0m \u001b[0;34m'Clown'\u001b[0m\u001b[0;34m,\u001b[0m \u001b[0;34m'Dog'\u001b[0m\u001b[0;34m)\u001b[0m\u001b[0;34m\u001b[0m\u001b[0;34m\u001b[0m\u001b[0m\n\u001b[0;32m----> 3\u001b[0;31m \u001b[0mtuple\u001b[0m\u001b[0;34m[\u001b[0m\u001b[0;36m0\u001b[0m\u001b[0;34m]\u001b[0m \u001b[0;34m=\u001b[0m \u001b[0;34m'Amazon'\u001b[0m\u001b[0;34m\u001b[0m\u001b[0;34m\u001b[0m\u001b[0m\n\u001b[0m",
      "\u001b[0;31mTypeError\u001b[0m: 'tuple' object does not support item assignment"
     ]
    }
   ],
   "source": [
    "#Tuples cannot be changed\n",
    "tuple = ('Apple', 'Bear', 'Clown', 'Dog')\n",
    "tuple[0] = 'Amazon'"
   ]
  },
  {
   "cell_type": "code",
   "execution_count": 35,
   "id": "adjusted-puzzle",
   "metadata": {},
   "outputs": [
    {
     "name": "stdout",
     "output_type": "stream",
     "text": [
      "['Amazon', 'Bear', 'Clown', 'Dog']\n"
     ]
    }
   ],
   "source": [
    "#Elements in a list can be updated \n",
    "list = ['Apple', 'Bear', 'Clown', 'Dog']\n",
    "list[0] = 'Amazon'\n",
    "print(list)"
   ]
  },
  {
   "cell_type": "code",
   "execution_count": 33,
   "id": "uniform-heart",
   "metadata": {},
   "outputs": [
    {
     "name": "stdout",
     "output_type": "stream",
     "text": [
      "Try to modify the first element in the list . . .\n",
      "The list: [9, 2, 3, 4, 5, 6, 7]\n",
      "It works, the first element is now 9\n",
      "\n",
      "Try to modify the first element in the tuple . . .\n"
     ]
    },
    {
     "ename": "TypeError",
     "evalue": "'tuple' object does not support item assignment",
     "output_type": "error",
     "traceback": [
      "\u001b[0;31m---------------------------------------------------------------------------\u001b[0m",
      "\u001b[0;31mTypeError\u001b[0m                                 Traceback (most recent call last)",
      "\u001b[0;32m<ipython-input-33-760692d2293f>\u001b[0m in \u001b[0;36m<module>\u001b[0;34m\u001b[0m\n\u001b[1;32m      7\u001b[0m \u001b[0mprint\u001b[0m\u001b[0;34m(\u001b[0m\u001b[0;34m\"\"\u001b[0m\u001b[0;34m)\u001b[0m\u001b[0;34m\u001b[0m\u001b[0;34m\u001b[0m\u001b[0m\n\u001b[1;32m      8\u001b[0m \u001b[0mprint\u001b[0m\u001b[0;34m(\u001b[0m\u001b[0;34m'Try to modify the first element in the tuple . . .'\u001b[0m\u001b[0;34m)\u001b[0m\u001b[0;34m\u001b[0m\u001b[0;34m\u001b[0m\u001b[0m\n\u001b[0;32m----> 9\u001b[0;31m \u001b[0mmy_tuple\u001b[0m\u001b[0;34m[\u001b[0m\u001b[0;36m0\u001b[0m\u001b[0;34m]\u001b[0m \u001b[0;34m=\u001b[0m \u001b[0;36m9\u001b[0m \u001b[0;31m# Is tuple modification possible?\u001b[0m\u001b[0;34m\u001b[0m\u001b[0;34m\u001b[0m\u001b[0m\n\u001b[0m\u001b[1;32m     10\u001b[0m \u001b[0mprint\u001b[0m\u001b[0;34m(\u001b[0m\u001b[0;34m'The tuple:'\u001b[0m\u001b[0;34m,\u001b[0m \u001b[0mmy_tuple\u001b[0m\u001b[0;34m)\u001b[0m\u001b[0;34m\u001b[0m\u001b[0;34m\u001b[0m\u001b[0m\n",
      "\u001b[0;31mTypeError\u001b[0m: 'tuple' object does not support item assignment"
     ]
    }
   ],
   "source": [
    "#Error tuple object does not support item assignment \n",
    "\n",
    "print('Try to modify the first element in the list . . .')\n",
    "my_list[0] = 9 # Modify the list\n",
    "print('The list:', my_list)\n",
    "print(\"It works, the first element is now 9\")\n",
    "print(\"\")\n",
    "print('Try to modify the first element in the tuple . . .')\n",
    "my_tuple[0] = 9 # Is tuple modification possible?\n",
    "print('The tuple:', my_tuple)"
   ]
  },
  {
   "cell_type": "markdown",
   "id": "dental-positive",
   "metadata": {},
   "source": [
    "## Converting Tuples \n",
    "\n",
    "- list() function: converts tuple to list \n",
    "- tuple() function: converts list to tuple"
   ]
  },
  {
   "cell_type": "code",
   "execution_count": 4,
   "id": "integral-injury",
   "metadata": {},
   "outputs": [
    {
     "name": "stdout",
     "output_type": "stream",
     "text": [
      "<class 'list'>\n",
      "[91, 92, 93, 94, 95, 96, 97, 98, 99, 100]\n"
     ]
    }
   ],
   "source": [
    "List = [1, 2, 3, 4, 5, 6, 7, 8, 9, 10]\n",
    "Tuple = (91, 92, 93, 94, 95, 96, 97, 98, 99, 100)\n",
    "\n",
    "#Convert a Tuple to a List\n",
    "convert = list(Tuple)\n",
    "print(type(convert)) #Use type() to see the class \n",
    "print(convert) #Now in [] indicating a list "
   ]
  },
  {
   "cell_type": "code",
   "execution_count": 5,
   "id": "concrete-northern",
   "metadata": {},
   "outputs": [
    {
     "name": "stdout",
     "output_type": "stream",
     "text": [
      "<class 'tuple'>\n",
      "(91, 92, 93, 94, 95, 96, 97, 98, 99, 100)\n"
     ]
    }
   ],
   "source": [
    "#Convert a List to a Tuple \n",
    "convert = tuple(convert)\n",
    "print(type(convert)) #Use type() to see the class \n",
    "print(convert) #Now in () indicating a tuple"
   ]
  },
  {
   "cell_type": "markdown",
   "id": "artistic-major",
   "metadata": {},
   "source": [
    "## Built in Zip Function & Tuples \n",
    "\n",
    "The zip function does not return a list; like range, it returns an object over which we can iterate."
   ]
  },
  {
   "cell_type": "code",
   "execution_count": 8,
   "id": "continued-adrian",
   "metadata": {},
   "outputs": [
    {
     "name": "stdout",
     "output_type": "stream",
     "text": [
      "0\n",
      "1\n",
      "4\n",
      "9\n"
     ]
    }
   ],
   "source": [
    "#Function creates perfect square numbers \n",
    "def square(n): \n",
    "    for i in range(n): \n",
    "        yield i**2\n",
    "\n",
    "#Print the first 4 perfect squares         \n",
    "for p in square(4): \n",
    "    print(p)"
   ]
  },
  {
   "cell_type": "code",
   "execution_count": 9,
   "id": "parliamentary-traffic",
   "metadata": {},
   "outputs": [
    {
     "name": "stdout",
     "output_type": "stream",
     "text": [
      "(10, 0) (20, 1) (30, 4) (40, 9) "
     ]
    }
   ],
   "source": [
    "#Using the zip function pair the list with the squares \n",
    "for p in zip([10, 20, 30, 40, 50, 60], square(4)): \n",
    "    print(p, end=' ')"
   ]
  },
  {
   "cell_type": "code",
   "execution_count": 10,
   "id": "finite-floor",
   "metadata": {},
   "outputs": [
    {
     "name": "stdout",
     "output_type": "stream",
     "text": [
      "[(0, 10), (1, 9), (2, 8), (3, 7), (4, 6)]\n",
      "<class 'list'>\n"
     ]
    }
   ],
   "source": [
    "#Create a List of Tuples using Zip \n",
    "z = list(zip(range(5), range(10, 0, -1)))\n",
    "print(z)\n",
    "print(type(z))"
   ]
  },
  {
   "cell_type": "code",
   "execution_count": 11,
   "id": "decreased-yugoslavia",
   "metadata": {},
   "outputs": [
    {
     "data": {
      "text/plain": [
       "(1, 9)"
      ]
     },
     "execution_count": 11,
     "metadata": {},
     "output_type": "execute_result"
    }
   ],
   "source": [
    "#Since z is a list you can use list methods, like indexing \n",
    "z[1]"
   ]
  },
  {
   "cell_type": "code",
   "execution_count": 12,
   "id": "sunrise-presence",
   "metadata": {},
   "outputs": [
    {
     "data": {
      "text/plain": [
       "[11, 13, 15, 17, 19]"
      ]
     },
     "execution_count": 12,
     "metadata": {},
     "output_type": "execute_result"
    }
   ],
   "source": [
    "#List Comprehension and Zip Function\n",
    "\n",
    "#Use zip() to add two lists together \n",
    "AddZips = [x + y for (x, y) in zip([1, 2, 3, 4, 5], [10, 11, 12, 13, 14])]\n",
    "AddZips"
   ]
  },
  {
   "cell_type": "code",
   "execution_count": 13,
   "id": "likely-handle",
   "metadata": {},
   "outputs": [
    {
     "name": "stdout",
     "output_type": "stream",
     "text": [
      "11\n",
      "13\n",
      "15\n",
      "17\n",
      "19\n"
     ]
    }
   ],
   "source": [
    "#For Loops and Zip Function \n",
    "\n",
    "#Use zip() to print the values of adding two lists \n",
    "for (x, y) in zip([1, 2, 3, 4, 5], [10, 11, 12, 13, 14]):\n",
    "    print(x + y)"
   ]
  },
  {
   "cell_type": "markdown",
   "id": "democratic-maldives",
   "metadata": {},
   "source": [
    "# Upacking Tuples \n",
    "\n",
    "Before learning to unpack tuples, it is helpful if you have a basic understanding of defining functions and printing lists. \n",
    "\n",
    "## Review Defining Functions "
   ]
  },
  {
   "cell_type": "code",
   "execution_count": 14,
   "id": "engaged-essex",
   "metadata": {},
   "outputs": [
    {
     "data": {
      "text/plain": [
       "13"
      ]
     },
     "execution_count": 14,
     "metadata": {},
     "output_type": "execute_result"
    }
   ],
   "source": [
    "#Creates a sum function that adds values a and b \n",
    "def sum(a, b):\n",
    "    return a + b\n",
    "\n",
    "sum(5, 8)"
   ]
  },
  {
   "cell_type": "code",
   "execution_count": 15,
   "id": "final-somerset",
   "metadata": {},
   "outputs": [
    {
     "name": "stdout",
     "output_type": "stream",
     "text": [
      "27\n",
      "13\n"
     ]
    }
   ],
   "source": [
    "#Creates a sum function with an optional argument c\n",
    "def sum(a, b, c=0):\n",
    "    return a + b + c \n",
    "\n",
    "print(sum(5, 8, 14))\n",
    "print(sum(5, 8))"
   ]
  },
  {
   "cell_type": "code",
   "execution_count": 16,
   "id": "million-failing",
   "metadata": {},
   "outputs": [
    {
     "data": {
      "text/plain": [
       "65"
      ]
     },
     "execution_count": 16,
     "metadata": {},
     "output_type": "execute_result"
    }
   ],
   "source": [
    "#Creates a sum function with unlimited values\n",
    "def sum(*nums):\n",
    "    s = 0 # Initialize sum to zero\n",
    "    for num in nums: # Consider each argument passed to the function\n",
    "        s += num # Accumulate their values \n",
    "    return s # Return the sum\n",
    "\n",
    "sum(5, 8, 14, 27, 3, 2, 6)"
   ]
  },
  {
   "cell_type": "markdown",
   "id": "forward-laptop",
   "metadata": {},
   "source": [
    "## Review Printing Lists \n",
    "\n",
    "Reminder list is not a protected word, but if you assign something to 'list' then you wont be able to use the built in function list() "
   ]
  },
  {
   "cell_type": "code",
   "execution_count": 7,
   "id": "after-dutch",
   "metadata": {},
   "outputs": [
    {
     "name": "stdout",
     "output_type": "stream",
     "text": [
      "[0, 1, 4, 9, 16, 25]\n",
      "0 1 4 9 16 25\n",
      "0 and 1 and 4 and 9 and 16 and 25--that's all folks!\n"
     ]
    }
   ],
   "source": [
    "#Create a List of Perfect Squares\n",
    "List = [i**2 for i in range(6)]\n",
    "\n",
    "# Typical list printing\n",
    "print(List)\n",
    "\n",
    "# Print just the list elements\n",
    "print(*List)\n",
    "\n",
    "# Print the list in a special way\n",
    "print(*List, sep=\" and \", end=\"--that's all folks!\\n\")"
   ]
  },
  {
   "cell_type": "markdown",
   "id": "altered-combination",
   "metadata": {},
   "source": [
    "## Unpacking Tuples\n",
    "\n",
    "Unpacking a tuple allows you to store the information inside a tuple to specified variables."
   ]
  },
  {
   "cell_type": "code",
   "execution_count": 36,
   "id": "extreme-continent",
   "metadata": {},
   "outputs": [
    {
     "name": "stdout",
     "output_type": "stream",
     "text": [
      "Apple\n",
      "Bear\n",
      "Clown\n",
      "Dog\n"
     ]
    }
   ],
   "source": [
    "#Basic unpacking example \n",
    "tuple = ('Apple', 'Bear', 'Clown', 'Dog')\n",
    "\n",
    "#The variables on the left must equal the number of variables in the tuple to store everything \n",
    "Fruit, Animal, Entertainment, Pet = tuple \n",
    "print(Fruit)\n",
    "print(Animal)\n",
    "print(Entertainment)\n",
    "print(Pet)"
   ]
  },
  {
   "cell_type": "code",
   "execution_count": 17,
   "id": "southeast-throw",
   "metadata": {},
   "outputs": [
    {
     "name": "stdout",
     "output_type": "stream",
     "text": [
      "a = 10  b =  20  c =  30  d =  40\n"
     ]
    }
   ],
   "source": [
    "#Unpack Tuples Pasting Tuple Object to Function Argument \n",
    "\n",
    "#Define a function with 4 parameters\n",
    "def f(a, b, c, d):\n",
    "    print('a =', a, ' b = ', b, ' c = ', c, ' d = ', d)\n",
    "\n",
    "#args is a tuple, and our function accepts 4 parameters\n",
    "args = (10, 20, 30, 40)\n",
    "\n",
    "#Using * enables the interpreter to unpack the tuple into the four parameters the function expects \n",
    "f(*args)"
   ]
  },
  {
   "cell_type": "code",
   "execution_count": 18,
   "id": "noted-perry",
   "metadata": {},
   "outputs": [
    {
     "name": "stdout",
     "output_type": "stream",
     "text": [
      "a = 10  b =  20  c =  30  d =  40\n"
     ]
    }
   ],
   "source": [
    "#Could also unpack Tuple Directly\n",
    "def f(a, b, c, d):\n",
    "    print('a =', a, ' b = ', b, ' c = ', c, ' d = ', d)\n",
    "\n",
    "f(*(10, 20, 30, 40))"
   ]
  },
  {
   "cell_type": "markdown",
   "id": "vocal-corporation",
   "metadata": {},
   "source": [
    "## Upacking range() values "
   ]
  },
  {
   "cell_type": "code",
   "execution_count": 19,
   "id": "helpful-literature",
   "metadata": {},
   "outputs": [
    {
     "name": "stdout",
     "output_type": "stream",
     "text": [
      "10\n",
      "20\n",
      "30\n"
     ]
    }
   ],
   "source": [
    "#All values in range get assigned \n",
    "x, y, z = range(10, 31, 10)\n",
    "print(x)\n",
    "print(y)\n",
    "print(z)"
   ]
  },
  {
   "cell_type": "code",
   "execution_count": 21,
   "id": "serial-belly",
   "metadata": {},
   "outputs": [
    {
     "ename": "ValueError",
     "evalue": "too many values to unpack (expected 3)",
     "output_type": "error",
     "traceback": [
      "\u001b[0;31m---------------------------------------------------------------------------\u001b[0m",
      "\u001b[0;31mValueError\u001b[0m                                Traceback (most recent call last)",
      "\u001b[0;32m<ipython-input-21-32dda5213f14>\u001b[0m in \u001b[0;36m<module>\u001b[0;34m\u001b[0m\n\u001b[1;32m      1\u001b[0m \u001b[0;31m#Will result in an error because there are more values in the range than variables listed.\u001b[0m\u001b[0;34m\u001b[0m\u001b[0;34m\u001b[0m\u001b[0;34m\u001b[0m\u001b[0m\n\u001b[0;32m----> 2\u001b[0;31m \u001b[0mx\u001b[0m\u001b[0;34m,\u001b[0m \u001b[0my\u001b[0m\u001b[0;34m,\u001b[0m \u001b[0mz\u001b[0m \u001b[0;34m=\u001b[0m \u001b[0mrange\u001b[0m\u001b[0;34m(\u001b[0m\u001b[0;36m10\u001b[0m\u001b[0;34m,\u001b[0m \u001b[0;36m41\u001b[0m\u001b[0;34m,\u001b[0m \u001b[0;36m10\u001b[0m\u001b[0;34m)\u001b[0m\u001b[0;34m\u001b[0m\u001b[0;34m\u001b[0m\u001b[0m\n\u001b[0m",
      "\u001b[0;31mValueError\u001b[0m: too many values to unpack (expected 3)"
     ]
    }
   ],
   "source": [
    "#Will result in an error because there are more values in the range than variables listed. \n",
    "x, y, z = range(10, 41, 10)\n"
   ]
  },
  {
   "cell_type": "markdown",
   "id": "comfortable-article",
   "metadata": {},
   "source": [
    "## Unpack Last Two Values \n",
    "\n",
    "By using the * symbol we can unpack part of a tuple or list. \n",
    "\n",
    "- *start, x, y: Where start is a list of all the values in the tuple before the last two values \n",
    "- a, b, *middle, x, y: Where middle is a list all the values between the first two and last two values\n",
    "- a, b, *end: Where end is a list of all the values after the first two values "
   ]
  },
  {
   "cell_type": "code",
   "execution_count": 22,
   "id": "psychological-forth",
   "metadata": {},
   "outputs": [
    {
     "name": "stdout",
     "output_type": "stream",
     "text": [
      "[1, 2, 3, 4, 5, 6, 7, 8]\n",
      "9\n",
      "10\n"
     ]
    }
   ],
   "source": [
    "#Assign Last Two Values to X & Y \n",
    "Numbers = 1, 2, 3, 4, 5, 6, 7, 8, 9, 10  \n",
    "*start, x, y = Numbers\n",
    "print(start)\n",
    "print(x)\n",
    "print(y)"
   ]
  },
  {
   "cell_type": "code",
   "execution_count": 23,
   "id": "severe-baseline",
   "metadata": {},
   "outputs": [
    {
     "name": "stdout",
     "output_type": "stream",
     "text": [
      "[10, 20]\n",
      "30\n",
      "40\n"
     ]
    }
   ],
   "source": [
    "#Assign Last Two Values to X & Y \n",
    "#args is a tuple \n",
    "args = (10, 20, 30, 40)\n",
    "\n",
    "*start, x, y = args\n",
    "print(start)\n",
    "print(x)\n",
    "print(y)\n",
    "\n",
    "#Notice args was a tuple and start is now a list "
   ]
  },
  {
   "cell_type": "code",
   "execution_count": 24,
   "id": "handled-yorkshire",
   "metadata": {},
   "outputs": [
    {
     "name": "stdout",
     "output_type": "stream",
     "text": [
      "1\n",
      "2\n",
      "[3, 4, 5, 6, 7, 8]\n",
      "9\n",
      "10\n"
     ]
    }
   ],
   "source": [
    "Numbers = 1, 2, 3, 4, 5, 6, 7, 8, 9, 10  \n",
    "a, b, *middle, x, y = Numbers\n",
    "print(a)\n",
    "print(b)\n",
    "print(middle)\n",
    "print(x)\n",
    "print(y)"
   ]
  },
  {
   "cell_type": "markdown",
   "id": "christian-reading",
   "metadata": {},
   "source": [
    "# Resources"
   ]
  },
  {
   "cell_type": "markdown",
   "id": "proof-newton",
   "metadata": {},
   "source": [
    "1. Code Academy Video: Learn Python Tuples: https://www.codecademy.com/courses/learn-python-3/videos/learn-python3-tuples\n",
    "2. DataCamp Tutorial: 18 Most Common Python List Questions: https://www.datacamp.com/community/tutorials/18-most-common-python-list-questions-learn-python\n",
    "3. Textbook: Fundamentals of Python Programing. \n",
    "http://python.cs.southern.edu/pythonbook/pythonbook.pdf\n",
    "    "
   ]
  }
 ],
 "metadata": {
  "kernelspec": {
   "display_name": "Python 3",
   "language": "python",
   "name": "python3"
  },
  "language_info": {
   "codemirror_mode": {
    "name": "ipython",
    "version": 3
   },
   "file_extension": ".py",
   "mimetype": "text/x-python",
   "name": "python",
   "nbconvert_exporter": "python",
   "pygments_lexer": "ipython3",
   "version": "3.8.5"
  }
 },
 "nbformat": 4,
 "nbformat_minor": 5
}
