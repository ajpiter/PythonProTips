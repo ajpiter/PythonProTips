{
 "cells": [
  {
   "cell_type": "markdown",
   "id": "compatible-uncertainty",
   "metadata": {},
   "source": [
    "# Sets \n",
    "\n",
    "Similar to a list, but does not have duplicate values. A benifit to using a set instead of a list is the speed in which a set is computed. \n",
    "\n",
    "Sets are created: \n",
    "- set() creates an empty set\n",
    "- set(listVariable) creates a set based on a list, string or tuple"
   ]
  },
  {
   "cell_type": "code",
   "execution_count": 3,
   "id": "coordinate-survey",
   "metadata": {},
   "outputs": [
    {
     "name": "stdout",
     "output_type": "stream",
     "text": [
      "<class 'set'>\n"
     ]
    }
   ],
   "source": [
    "Set = set()\n",
    "print(type(Set))"
   ]
  },
  {
   "cell_type": "code",
   "execution_count": 6,
   "id": "familiar-maldives",
   "metadata": {},
   "outputs": [
    {
     "name": "stdout",
     "output_type": "stream",
     "text": [
      "<class 'set'>\n",
      "{2, 5, 6, 10, 13}\n"
     ]
    }
   ],
   "source": [
    "L = [10, 13, 10, 5, 6, 13, 2, 10, 5]\n",
    "S = set(L) # Duplicates in L will be removed\n",
    "print(type(S))\n",
    "print(S) "
   ]
  },
  {
   "cell_type": "code",
   "execution_count": 31,
   "id": "standard-adapter",
   "metadata": {},
   "outputs": [
    {
     "name": "stdout",
     "output_type": "stream",
     "text": [
      "<class 'set'>\n",
      "{0, 1, 64, 4, 36, 9, 16, 49, 81, 25}\n"
     ]
    }
   ],
   "source": [
    "S = {x**2 for x in range(10)}\n",
    "print(type(S))\n",
    "print(S) "
   ]
  },
  {
   "cell_type": "markdown",
   "id": "attempted-bicycle",
   "metadata": {},
   "source": [
    "## Set Functions & Methods \n",
    "\n",
    "- len() function: returns the number of elements in the set\n",
    "- add method: adds an element to a set\n",
    "- update method: adds a group of elements to a set\n",
    "- remove and discard methods: remove the specified item from the set\n",
    "- clear method: clears all the elements of the set"
   ]
  },
  {
   "cell_type": "code",
   "execution_count": 7,
   "id": "described-museum",
   "metadata": {},
   "outputs": [
    {
     "name": "stdout",
     "output_type": "stream",
     "text": [
      "<class 'set'>\n",
      "{2, 5, 6, 10, 13}\n"
     ]
    }
   ],
   "source": [
    "Set = S \n",
    "print(type(Set))\n",
    "print(Set) "
   ]
  },
  {
   "cell_type": "code",
   "execution_count": 9,
   "id": "electoral-garbage",
   "metadata": {},
   "outputs": [
    {
     "data": {
      "text/plain": [
       "5"
      ]
     },
     "execution_count": 9,
     "metadata": {},
     "output_type": "execute_result"
    }
   ],
   "source": [
    "#Returns the number of elements in the set \n",
    "len(Set)"
   ]
  },
  {
   "cell_type": "code",
   "execution_count": 13,
   "id": "mounted-venice",
   "metadata": {},
   "outputs": [
    {
     "name": "stdout",
     "output_type": "stream",
     "text": [
      "<class 'set'>\n",
      "{2, 5, 6, 10, 13, 89}\n"
     ]
    }
   ],
   "source": [
    "#Adds a single variable to a set\n",
    "Set.add(89)\n",
    "print(type(Set))\n",
    "print(Set)"
   ]
  },
  {
   "cell_type": "code",
   "execution_count": 18,
   "id": "peripheral-spoke",
   "metadata": {},
   "outputs": [
    {
     "name": "stdout",
     "output_type": "stream",
     "text": [
      "{2, '2', '9', 5, 6, 'e', 10, 13, 'H', 'l', 89, 'o'}\n"
     ]
    }
   ],
   "source": [
    "Set.update('Hello')\n",
    "print(Set)"
   ]
  },
  {
   "cell_type": "code",
   "execution_count": 19,
   "id": "employed-commerce",
   "metadata": {},
   "outputs": [
    {
     "name": "stdout",
     "output_type": "stream",
     "text": [
      "{2, '9', 5, 6, 'e', 10, 13, 'H', 'l', 89, 'o'}\n"
     ]
    }
   ],
   "source": [
    "Set.remove(\"2\")\n",
    "print(Set)"
   ]
  },
  {
   "cell_type": "code",
   "execution_count": 20,
   "id": "external-shade",
   "metadata": {},
   "outputs": [
    {
     "name": "stdout",
     "output_type": "stream",
     "text": [
      "{2, 5, 6, 'e', 10, 13, 'H', 'l', 89, 'o'}\n"
     ]
    }
   ],
   "source": [
    "Set.discard('9')\n",
    "print(Set)"
   ]
  },
  {
   "cell_type": "code",
   "execution_count": 22,
   "id": "painful-maker",
   "metadata": {},
   "outputs": [
    {
     "name": "stdout",
     "output_type": "stream",
     "text": [
      "<class 'set'>\n",
      "set()\n"
     ]
    }
   ],
   "source": [
    "Set.clear()\n",
    "print(type(Set))\n",
    "print(Set)"
   ]
  },
  {
   "cell_type": "markdown",
   "id": "spare-german",
   "metadata": {},
   "source": [
    "## Set Comparison Operators "
   ]
  },
  {
   "cell_type": "code",
   "execution_count": 23,
   "id": "lined-world",
   "metadata": {},
   "outputs": [
    {
     "name": "stdout",
     "output_type": "stream",
     "text": [
      "<class 'set'>\n"
     ]
    }
   ],
   "source": [
    "Set1 = {2, 5, 7, 8, 9, 12}\n",
    "Set2 = {1, 5, 6, 7, 11, 12}\n",
    "print(type(Set1))"
   ]
  },
  {
   "cell_type": "code",
   "execution_count": 25,
   "id": "heavy-observation",
   "metadata": {},
   "outputs": [
    {
     "data": {
      "text/plain": [
       "{1, 2, 5, 6, 7, 8, 9, 11, 12}"
      ]
     },
     "execution_count": 25,
     "metadata": {},
     "output_type": "execute_result"
    }
   ],
   "source": [
    "#What elements are in Set1, Set2 or both Sets\n",
    "Set1 | Set2\n",
    "\n",
    "#Could also call the .union method \n",
    "#Set1.union(Set2)"
   ]
  },
  {
   "cell_type": "code",
   "execution_count": 26,
   "id": "cutting-efficiency",
   "metadata": {},
   "outputs": [
    {
     "data": {
      "text/plain": [
       "{5, 7, 12}"
      ]
     },
     "execution_count": 26,
     "metadata": {},
     "output_type": "execute_result"
    }
   ],
   "source": [
    "#What elements are in both Set1 and Set2\n",
    "Set1 & Set2\n",
    "\n",
    "#Could also call the .insersection method \n",
    "#Set1.intersection(Set2)"
   ]
  },
  {
   "cell_type": "code",
   "execution_count": 27,
   "id": "instrumental-marathon",
   "metadata": {},
   "outputs": [
    {
     "data": {
      "text/plain": [
       "{2, 8, 9}"
      ]
     },
     "execution_count": 27,
     "metadata": {},
     "output_type": "execute_result"
    }
   ],
   "source": [
    "#What elements are in Set1 but NOT in Set2\n",
    "Set1 - Set2 \n",
    "\n",
    "#Could also call the .difference method \n",
    "#Set1.difference(Set2)"
   ]
  },
  {
   "cell_type": "code",
   "execution_count": 28,
   "id": "animal-fundamental",
   "metadata": {},
   "outputs": [
    {
     "data": {
      "text/plain": [
       "{1, 6, 11}"
      ]
     },
     "execution_count": 28,
     "metadata": {},
     "output_type": "execute_result"
    }
   ],
   "source": [
    "#What elements are in Set2 but NOT in Set1\n",
    "Set2 - Set1"
   ]
  },
  {
   "cell_type": "code",
   "execution_count": 29,
   "id": "rural-frederick",
   "metadata": {},
   "outputs": [
    {
     "data": {
      "text/plain": [
       "{1, 2, 6, 8, 9, 11}"
      ]
     },
     "execution_count": 29,
     "metadata": {},
     "output_type": "execute_result"
    }
   ],
   "source": [
    "#Elements in A OR B but NOT both \n",
    "Set1 ^ Set2 \n",
    "\n",
    "#Could also call the symmetric_difference method\n",
    "#Set1.symmetric_difference(Set2)"
   ]
  },
  {
   "cell_type": "markdown",
   "id": "wireless-shelf",
   "metadata": {},
   "source": [
    "## Subsets \n",
    "\n",
    "Set A is subset of set B if all the elements in set A are included in set B. There are two ways to determine if one set is a subset of another: \n",
    "- .issubset method \n",
    "- <= operator "
   ]
  },
  {
   "cell_type": "code",
   "execution_count": 32,
   "id": "addressed-lincoln",
   "metadata": {},
   "outputs": [
    {
     "data": {
      "text/plain": [
       "False"
      ]
     },
     "execution_count": 32,
     "metadata": {},
     "output_type": "execute_result"
    }
   ],
   "source": [
    "#determine whether set 1 is subset of set 2\n",
    "Set1.issubset(Set2)"
   ]
  },
  {
   "cell_type": "code",
   "execution_count": 35,
   "id": "julian-duplicate",
   "metadata": {},
   "outputs": [
    {
     "data": {
      "text/plain": [
       "True"
      ]
     },
     "execution_count": 35,
     "metadata": {},
     "output_type": "execute_result"
    }
   ],
   "source": [
    "#The order matters, SetB is a subset of SetA\n",
    "SetA = {1, 2, 3, 4, 5, 6, 7, 8, 9, 10}\n",
    "SetB = {1, 2, 3, 4, 5}\n",
    "SetB.issubset(SetA)"
   ]
  },
  {
   "cell_type": "code",
   "execution_count": 36,
   "id": "vanilla-circuit",
   "metadata": {},
   "outputs": [
    {
     "data": {
      "text/plain": [
       "False"
      ]
     },
     "execution_count": 36,
     "metadata": {},
     "output_type": "execute_result"
    }
   ],
   "source": [
    "#SetA is NOT a subset of SetB\n",
    "SetA.issubset(SetB)"
   ]
  },
  {
   "cell_type": "code",
   "execution_count": 37,
   "id": "modular-subsection",
   "metadata": {},
   "outputs": [
    {
     "data": {
      "text/plain": [
       "True"
      ]
     },
     "execution_count": 37,
     "metadata": {},
     "output_type": "execute_result"
    }
   ],
   "source": [
    "#Is SetB a subset of SetA\n",
    "SetB <= SetA"
   ]
  },
  {
   "cell_type": "markdown",
   "id": "closing-fellowship",
   "metadata": {},
   "source": [
    "## Supersets \n",
    "\n",
    "Set A is superset of set B if it contains all the elements of set B. There are two ways to determine if one set is a superset of another: \n",
    "\n",
    "- **.issuperset method**\n",
    "- **>= operator** "
   ]
  },
  {
   "cell_type": "code",
   "execution_count": 38,
   "id": "median-asbestos",
   "metadata": {},
   "outputs": [
    {
     "data": {
      "text/plain": [
       "True"
      ]
     },
     "execution_count": 38,
     "metadata": {},
     "output_type": "execute_result"
    }
   ],
   "source": [
    "SetA = {1, 2, 3, 4}\n",
    "SetB = SetA \n",
    "\n",
    "#Is SetA a perfect match with SetB \n",
    "SetA.issuperset(SetB)"
   ]
  },
  {
   "cell_type": "code",
   "execution_count": 40,
   "id": "loved-connectivity",
   "metadata": {},
   "outputs": [
    {
     "data": {
      "text/plain": [
       "True"
      ]
     },
     "execution_count": 40,
     "metadata": {},
     "output_type": "execute_result"
    }
   ],
   "source": [
    "#Is SetA a perfect match with SetB \n",
    "SetA >= SetB"
   ]
  },
  {
   "cell_type": "markdown",
   "id": "positive-bench",
   "metadata": {},
   "source": [
    "## Sets & Computing Time \n",
    "\n",
    "Run the code below to see the computing time difference for a large list and a large set. The results on my computer were: \n",
    "- List elapsed: 11.654843807220459\n",
    "- Set elapsed: 0.08272624015808105"
   ]
  },
  {
   "cell_type": "code",
   "execution_count": 15,
   "id": "corporate-democracy",
   "metadata": {},
   "outputs": [
    {
     "name": "stdout",
     "output_type": "stream",
     "text": [
      "Set: <class 'set'>  List: <class 'list'>\n",
      "List elapsed: 11.654843807220459\n",
      "Set elapsed: 0.08272624015808105\n"
     ]
    }
   ],
   "source": [
    "# time.clock() was removed in python 3.8\n",
    "# time.clock() was replaced with time.time()\n",
    "\n",
    "# Data structure size\n",
    "size = 1000\n",
    "\n",
    "# Make a big set\n",
    "S = {x**2 for x in range(size)}\n",
    "\n",
    "# Make a big list\n",
    "L = [x**2 for x in range(size)]\n",
    "\n",
    "# Verify the type of S and L\n",
    "print('Set:', type(S), ' List:', type(L))\n",
    "\n",
    "# Search size\n",
    "search_size = 1000000\n",
    "\n",
    "# Time list access\n",
    "start_time = time.time()\n",
    "for i in range(search_size):\n",
    "    if i in L:\n",
    "        pass\n",
    "\n",
    "stop_time = time.time()\n",
    "print('List elapsed:', stop_time - start_time)\n",
    "\n",
    "# Time set access\n",
    "start_time = time.time()\n",
    "for i in range(search_size):\n",
    "    if i in S:\n",
    "        pass\n",
    "stop_time = time.time()\n",
    "print('Set elapsed:', stop_time - start_time)"
   ]
  }
 ],
 "metadata": {
  "kernelspec": {
   "display_name": "Python 3",
   "language": "python",
   "name": "python3"
  },
  "language_info": {
   "codemirror_mode": {
    "name": "ipython",
    "version": 3
   },
   "file_extension": ".py",
   "mimetype": "text/x-python",
   "name": "python",
   "nbconvert_exporter": "python",
   "pygments_lexer": "ipython3",
   "version": "3.8.5"
  }
 },
 "nbformat": 4,
 "nbformat_minor": 5
}
