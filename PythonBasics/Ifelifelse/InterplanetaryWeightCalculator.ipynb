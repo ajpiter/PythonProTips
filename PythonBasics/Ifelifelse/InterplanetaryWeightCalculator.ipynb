{
 "cells": [
  {
   "cell_type": "markdown",
   "metadata": {},
   "source": [
    "## Interplanetary Weight Calculator \n",
    "\n",
    "Uses two input() functions and an if, elif, else statement to show how much the user would weigh on different planets in our solar system. "
   ]
  },
  {
   "cell_type": "code",
   "execution_count": 1,
   "metadata": {},
   "outputs": [
    {
     "name": "stdout",
     "output_type": "stream",
     "text": [
      "Welcome to the interplanetary weight calculator.\n",
      "Curious to see what your relative weight would be on other planets in our solar system?\n",
      "\n",
      "I have information for the following planets:\n",
      "\n",
      "   1. Venus   2. Mars    3. Jupiter\n",
      "   4. Saturn  5. Uranus  6. Neptune\n",
      "\n"
     ]
    },
    {
     "name": "stdin",
     "output_type": "stream",
     "text": [
      "Please enter the number that corresponds with a planet from the list above. 3\n",
      "Please enter your weight in pounds. 125\n"
     ]
    },
    {
     "name": "stdout",
     "output_type": "stream",
     "text": [
      "\n",
      "Your realtive weight would be: 292.5 pounds.\n"
     ]
    }
   ],
   "source": [
    "print(\"Welcome to the interplanetary weight calculator.\")\n",
    "print(\"Curious to see what your relative weight would be on other planets in our solar system?\")\n",
    "print(\"\")\n",
    "print(\"I have information for the following planets:\\n\")\n",
    "\n",
    "print(\"   1. Venus   2. Mars    3. Jupiter\")\n",
    "print(\"   4. Saturn  5. Uranus  6. Neptune\\n\")\n",
    " \n",
    "planet = float(input(\"Please enter the number that corresponds with a planet from the list above.\"))\n",
    "weight = float(input(\"Please enter your weight in pounds.\"))\n",
    "print(\"\")\n",
    "\n",
    "String1 = \"Your realtive weight would be: \"\n",
    "String2 = \" pounds.\"\n",
    "\n",
    "# Write an if statement below:\n",
    "if planet == 1: \n",
    "  weight = weight * .91 \n",
    "elif planet == 2: \n",
    "  weight = weight * .38 \n",
    "elif planet == 3: \n",
    "  weight = weight * 2.34\n",
    "elif planet == 4: \n",
    "  weight = weight * 1.06 \n",
    "elif planet == 5: \n",
    "  weight = weight * 0.92\n",
    "else: \n",
    "  weight = weight * 1.19 \n",
    "print(String1 + str(weight) + String2)"
   ]
  }
 ],
 "metadata": {
  "kernelspec": {
   "display_name": "Python 3",
   "language": "python",
   "name": "python3"
  },
  "language_info": {
   "codemirror_mode": {
    "name": "ipython",
    "version": 3
   },
   "file_extension": ".py",
   "mimetype": "text/x-python",
   "name": "python",
   "nbconvert_exporter": "python",
   "pygments_lexer": "ipython3",
   "version": "3.8.5"
  }
 },
 "nbformat": 4,
 "nbformat_minor": 4
}
