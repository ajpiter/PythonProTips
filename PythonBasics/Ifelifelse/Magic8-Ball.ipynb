{
 "cells": [
  {
   "cell_type": "markdown",
   "metadata": {},
   "source": [
    "## Magic 8-Ball Responds to Your Question\n",
    "\n",
    "A guided Code Academy project as part of the Learn Python 3 course. "
   ]
  },
  {
   "cell_type": "code",
   "execution_count": 5,
   "metadata": {},
   "outputs": [
    {
     "name": "stdin",
     "output_type": "stream",
     "text": [
      "Who is asking the Magic 8-Ball a question? Amanda\n",
      "What is your question? Will it rain today? \n"
     ]
    },
    {
     "name": "stdout",
     "output_type": "stream",
     "text": [
      "\n",
      "Amanda , after analyzing your question: \" Will it rain today?  \"\n",
      "The Magic 8-Ball's Answer is: Ask again later\n"
     ]
    }
   ],
   "source": [
    "name = input(\"Who is asking the Magic 8-Ball a question?\")\n",
    "question = input(\"What is your question?\")\n",
    "\n",
    "#creates a placeholder value for the Magic 8-ball's answer\n",
    "answer = \"\"\n",
    "\n",
    "#Use the random package to randomize the 8-ball's answer \n",
    "import random \n",
    "random_number = random.randint(1, 9)\n",
    "\n",
    "#Create an If, Elif, Else Statement to determine the results of the Magic 8-Ball \n",
    "if random_number == 1: \n",
    "  answer = \"Yes - definitely\"\n",
    "elif random_number == 2: \n",
    "  answer = 'It is decidedly so'\n",
    "elif random_number == 3: \n",
    "  answer = \"Without a doubt\"\n",
    "elif random_number == 4: \n",
    "  answer = \"Reply hazy, try again\"\n",
    "elif random_number == 5: \n",
    "  answer = \"Ask again later\"\n",
    "elif random_number == 6: \n",
    "  answer = \"Better not tell you now\"\n",
    "elif random_number == 7: \n",
    "  answer = \"My sources say no.\"\n",
    "elif random_number == 8: \n",
    "  answer = \"Outlook not so good.\"\n",
    "else: \n",
    "  answer = \"Very doubtful.\"\n",
    "\n",
    "#Print the Result \n",
    "print(\"\")\n",
    "print(str(name), ', after analyzing your question: \"', str(question), '\"')\n",
    "print(\"The Magic 8-Ball's Answer is:\", answer)"
   ]
  },
  {
   "cell_type": "code",
   "execution_count": null,
   "metadata": {},
   "outputs": [],
   "source": []
  }
 ],
 "metadata": {
  "kernelspec": {
   "display_name": "Python 3",
   "language": "python",
   "name": "python3"
  },
  "language_info": {
   "codemirror_mode": {
    "name": "ipython",
    "version": 3
   },
   "file_extension": ".py",
   "mimetype": "text/x-python",
   "name": "python",
   "nbconvert_exporter": "python",
   "pygments_lexer": "ipython3",
   "version": "3.8.5"
  }
 },
 "nbformat": 4,
 "nbformat_minor": 4
}
