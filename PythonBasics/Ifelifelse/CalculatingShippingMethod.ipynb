{
 "cells": [
  {
   "cell_type": "markdown",
   "metadata": {},
   "source": [
    "## Calculating the Cheapest Shipping Method\n",
    "\n",
    "Create a program that determines the cheapest method to ship an item. "
   ]
  },
  {
   "cell_type": "code",
   "execution_count": 4,
   "metadata": {},
   "outputs": [
    {
     "name": "stdin",
     "output_type": "stream",
     "text": [
      "What is the package weight in pounds? 28\n"
     ]
    },
    {
     "name": "stdout",
     "output_type": "stream",
     "text": [
      "For a package that weighs 28.0 pounds, the price per shipping method will be as follows:\n",
      "\n",
      "Ground Shipping Costs: $ 153.0\n",
      "Premium Shipping Costs: $ 150\n",
      "Drone Shipping Costs: $ 399.0\n",
      "\n",
      "The cheapest method to ship your item is Premium Shipping\n"
     ]
    }
   ],
   "source": [
    "#Ask for the user's input \n",
    "weight = float(input(\"What is the package weight in pounds?\"))\n",
    "\n",
    "#Initalize the variables \n",
    "GroundPrice = 0 \n",
    "PremiumPrice = 150 \n",
    "DronePrice = 0\n",
    "\n",
    "#Create a loop to calculate shipping costs \n",
    "if weight <= 2: \n",
    "  GroundPrice = (weight * 1.50) + 20 \n",
    "  DronePrice = weight * 4.50\n",
    "elif weight <= 6: \n",
    "  GroundPrice = (weight * 3.00) + 20 \n",
    "  DronePrice = weight * 9.00 \n",
    "elif weight <- 10: \n",
    "  GroundPrice = (weight * 4.00) + 20\n",
    "  DronePrice = weight * 12.00\n",
    "else: \n",
    "  GroundPrice = (weight * 4.75) + 20\n",
    "  DronePrice = weight * 14.25\n",
    "\n",
    "#Create a loop to determine cheapest shipping option \n",
    "if (GroundPrice <= PremiumPrice) and (GroundPrice <= DronePrice): \n",
    "  CheapestMethod = \"Ground Shipping\"\n",
    "elif (PremiumPrice <= GroundPrice) and (PremiumPrice <= DronePrice): \n",
    "  CheapestMethod = \"Premium Shipping\"\n",
    "else: \n",
    "  CheapestMethod = \"Drone Shipping\"\n",
    "\n",
    "#Print the results\n",
    "print(\"For a package that weighs\", str(weight), \"pounds, the price per shipping method will be as follows:\")\n",
    "print(\"\")\n",
    "print(\"Ground Shipping Costs: $\", GroundPrice)\n",
    "print(\"Premium Shipping Costs: $\", PremiumPrice)\n",
    "print(\"Drone Shipping Costs: $\", DronePrice)\n",
    "print(\"\")\n",
    "print(\"The cheapest method to ship your item is\", CheapestMethod)"
   ]
  }
 ],
 "metadata": {
  "kernelspec": {
   "display_name": "Python 3",
   "language": "python",
   "name": "python3"
  },
  "language_info": {
   "codemirror_mode": {
    "name": "ipython",
    "version": 3
   },
   "file_extension": ".py",
   "mimetype": "text/x-python",
   "name": "python",
   "nbconvert_exporter": "python",
   "pygments_lexer": "ipython3",
   "version": "3.8.5"
  }
 },
 "nbformat": 4,
 "nbformat_minor": 4
}
